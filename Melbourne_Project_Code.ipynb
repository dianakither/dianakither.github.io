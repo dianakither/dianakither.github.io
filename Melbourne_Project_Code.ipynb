{
 "cells": [
  {
   "cell_type": "code",
   "execution_count": 1,
   "metadata": {},
   "outputs": [],
   "source": [
    "import pandas as pd\n",
    "import numpy as np"
   ]
  },
  {
   "cell_type": "code",
   "execution_count": 2,
   "metadata": {},
   "outputs": [
    {
     "data": {
      "text/html": [
       "<div>\n",
       "<style scoped>\n",
       "    .dataframe tbody tr th:only-of-type {\n",
       "        vertical-align: middle;\n",
       "    }\n",
       "\n",
       "    .dataframe tbody tr th {\n",
       "        vertical-align: top;\n",
       "    }\n",
       "\n",
       "    .dataframe thead th {\n",
       "        text-align: right;\n",
       "    }\n",
       "</style>\n",
       "<table border=\"1\" class=\"dataframe\">\n",
       "  <thead>\n",
       "    <tr style=\"text-align: right;\">\n",
       "      <th></th>\n",
       "      <th>country_region_code</th>\n",
       "      <th>country_region</th>\n",
       "      <th>sub_region_1</th>\n",
       "      <th>sub_region_2</th>\n",
       "      <th>metro_area</th>\n",
       "      <th>iso_3166_2_code</th>\n",
       "      <th>census_fips_code</th>\n",
       "      <th>date</th>\n",
       "      <th>retail_and_recreation_percent_change_from_baseline</th>\n",
       "      <th>grocery_and_pharmacy_percent_change_from_baseline</th>\n",
       "      <th>parks_percent_change_from_baseline</th>\n",
       "      <th>transit_stations_percent_change_from_baseline</th>\n",
       "      <th>workplaces_percent_change_from_baseline</th>\n",
       "      <th>residential_percent_change_from_baseline</th>\n",
       "    </tr>\n",
       "  </thead>\n",
       "  <tbody>\n",
       "    <tr>\n",
       "      <th>0</th>\n",
       "      <td>AE</td>\n",
       "      <td>United Arab Emirates</td>\n",
       "      <td>NaN</td>\n",
       "      <td>NaN</td>\n",
       "      <td>NaN</td>\n",
       "      <td>NaN</td>\n",
       "      <td>NaN</td>\n",
       "      <td>15/2/20</td>\n",
       "      <td>0.0</td>\n",
       "      <td>4.0</td>\n",
       "      <td>5.0</td>\n",
       "      <td>0.0</td>\n",
       "      <td>2.0</td>\n",
       "      <td>1.0</td>\n",
       "    </tr>\n",
       "    <tr>\n",
       "      <th>1</th>\n",
       "      <td>AE</td>\n",
       "      <td>United Arab Emirates</td>\n",
       "      <td>NaN</td>\n",
       "      <td>NaN</td>\n",
       "      <td>NaN</td>\n",
       "      <td>NaN</td>\n",
       "      <td>NaN</td>\n",
       "      <td>16/2/20</td>\n",
       "      <td>1.0</td>\n",
       "      <td>4.0</td>\n",
       "      <td>4.0</td>\n",
       "      <td>1.0</td>\n",
       "      <td>2.0</td>\n",
       "      <td>1.0</td>\n",
       "    </tr>\n",
       "    <tr>\n",
       "      <th>2</th>\n",
       "      <td>AE</td>\n",
       "      <td>United Arab Emirates</td>\n",
       "      <td>NaN</td>\n",
       "      <td>NaN</td>\n",
       "      <td>NaN</td>\n",
       "      <td>NaN</td>\n",
       "      <td>NaN</td>\n",
       "      <td>17/2/20</td>\n",
       "      <td>-1.0</td>\n",
       "      <td>1.0</td>\n",
       "      <td>5.0</td>\n",
       "      <td>1.0</td>\n",
       "      <td>2.0</td>\n",
       "      <td>1.0</td>\n",
       "    </tr>\n",
       "    <tr>\n",
       "      <th>3</th>\n",
       "      <td>AE</td>\n",
       "      <td>United Arab Emirates</td>\n",
       "      <td>NaN</td>\n",
       "      <td>NaN</td>\n",
       "      <td>NaN</td>\n",
       "      <td>NaN</td>\n",
       "      <td>NaN</td>\n",
       "      <td>18/2/20</td>\n",
       "      <td>-2.0</td>\n",
       "      <td>1.0</td>\n",
       "      <td>5.0</td>\n",
       "      <td>0.0</td>\n",
       "      <td>2.0</td>\n",
       "      <td>1.0</td>\n",
       "    </tr>\n",
       "    <tr>\n",
       "      <th>4</th>\n",
       "      <td>AE</td>\n",
       "      <td>United Arab Emirates</td>\n",
       "      <td>NaN</td>\n",
       "      <td>NaN</td>\n",
       "      <td>NaN</td>\n",
       "      <td>NaN</td>\n",
       "      <td>NaN</td>\n",
       "      <td>19/2/20</td>\n",
       "      <td>-2.0</td>\n",
       "      <td>0.0</td>\n",
       "      <td>4.0</td>\n",
       "      <td>-1.0</td>\n",
       "      <td>2.0</td>\n",
       "      <td>1.0</td>\n",
       "    </tr>\n",
       "  </tbody>\n",
       "</table>\n",
       "</div>"
      ],
      "text/plain": [
       "  country_region_code        country_region sub_region_1 sub_region_2  \\\n",
       "0                  AE  United Arab Emirates          NaN          NaN   \n",
       "1                  AE  United Arab Emirates          NaN          NaN   \n",
       "2                  AE  United Arab Emirates          NaN          NaN   \n",
       "3                  AE  United Arab Emirates          NaN          NaN   \n",
       "4                  AE  United Arab Emirates          NaN          NaN   \n",
       "\n",
       "  metro_area iso_3166_2_code  census_fips_code     date  \\\n",
       "0        NaN             NaN               NaN  15/2/20   \n",
       "1        NaN             NaN               NaN  16/2/20   \n",
       "2        NaN             NaN               NaN  17/2/20   \n",
       "3        NaN             NaN               NaN  18/2/20   \n",
       "4        NaN             NaN               NaN  19/2/20   \n",
       "\n",
       "   retail_and_recreation_percent_change_from_baseline  \\\n",
       "0                                                0.0    \n",
       "1                                                1.0    \n",
       "2                                               -1.0    \n",
       "3                                               -2.0    \n",
       "4                                               -2.0    \n",
       "\n",
       "   grocery_and_pharmacy_percent_change_from_baseline  \\\n",
       "0                                                4.0   \n",
       "1                                                4.0   \n",
       "2                                                1.0   \n",
       "3                                                1.0   \n",
       "4                                                0.0   \n",
       "\n",
       "   parks_percent_change_from_baseline  \\\n",
       "0                                 5.0   \n",
       "1                                 4.0   \n",
       "2                                 5.0   \n",
       "3                                 5.0   \n",
       "4                                 4.0   \n",
       "\n",
       "   transit_stations_percent_change_from_baseline  \\\n",
       "0                                            0.0   \n",
       "1                                            1.0   \n",
       "2                                            1.0   \n",
       "3                                            0.0   \n",
       "4                                           -1.0   \n",
       "\n",
       "   workplaces_percent_change_from_baseline  \\\n",
       "0                                      2.0   \n",
       "1                                      2.0   \n",
       "2                                      2.0   \n",
       "3                                      2.0   \n",
       "4                                      2.0   \n",
       "\n",
       "   residential_percent_change_from_baseline  \n",
       "0                                       1.0  \n",
       "1                                       1.0  \n",
       "2                                       1.0  \n",
       "3                                       1.0  \n",
       "4                                       1.0  "
      ]
     },
     "execution_count": 2,
     "metadata": {},
     "output_type": "execute_result"
    }
   ],
   "source": [
    "###Load covid mobility data set into notebook\n",
    "mobility = pd.read_csv('/Users/dianakither/Desktop/data.csv', dtype={'sub_region_1':str, 'sub_region_2':str},\n",
    "                       low_memory=False)\n",
    "mobility.head()"
   ]
  },
  {
   "cell_type": "code",
   "execution_count": null,
   "metadata": {},
   "outputs": [],
   "source": []
  },
  {
   "cell_type": "code",
   "execution_count": null,
   "metadata": {},
   "outputs": [],
   "source": []
  },
  {
   "cell_type": "code",
   "execution_count": 3,
   "metadata": {},
   "outputs": [],
   "source": [
    "##### PART 1 - DATA SUBSET SELECTION #####"
   ]
  },
  {
   "cell_type": "code",
   "execution_count": 4,
   "metadata": {},
   "outputs": [
    {
     "data": {
      "text/html": [
       "<div>\n",
       "<style scoped>\n",
       "    .dataframe tbody tr th:only-of-type {\n",
       "        vertical-align: middle;\n",
       "    }\n",
       "\n",
       "    .dataframe tbody tr th {\n",
       "        vertical-align: top;\n",
       "    }\n",
       "\n",
       "    .dataframe thead th {\n",
       "        text-align: right;\n",
       "    }\n",
       "</style>\n",
       "<table border=\"1\" class=\"dataframe\">\n",
       "  <thead>\n",
       "    <tr style=\"text-align: right;\">\n",
       "      <th></th>\n",
       "      <th>country_region_code</th>\n",
       "      <th>country_region</th>\n",
       "      <th>sub_region_1</th>\n",
       "      <th>sub_region_2</th>\n",
       "      <th>metro_area</th>\n",
       "      <th>iso_3166_2_code</th>\n",
       "      <th>census_fips_code</th>\n",
       "      <th>date</th>\n",
       "      <th>retail_and_recreation_percent_change_from_baseline</th>\n",
       "      <th>grocery_and_pharmacy_percent_change_from_baseline</th>\n",
       "      <th>parks_percent_change_from_baseline</th>\n",
       "      <th>transit_stations_percent_change_from_baseline</th>\n",
       "      <th>workplaces_percent_change_from_baseline</th>\n",
       "      <th>residential_percent_change_from_baseline</th>\n",
       "    </tr>\n",
       "  </thead>\n",
       "  <tbody>\n",
       "    <tr>\n",
       "      <th>150171</th>\n",
       "      <td>AU</td>\n",
       "      <td>Australia</td>\n",
       "      <td>NaN</td>\n",
       "      <td>NaN</td>\n",
       "      <td>NaN</td>\n",
       "      <td>NaN</td>\n",
       "      <td>NaN</td>\n",
       "      <td>15/2/20</td>\n",
       "      <td>4.0</td>\n",
       "      <td>3.0</td>\n",
       "      <td>-2.0</td>\n",
       "      <td>3.0</td>\n",
       "      <td>3.0</td>\n",
       "      <td>0.0</td>\n",
       "    </tr>\n",
       "    <tr>\n",
       "      <th>150172</th>\n",
       "      <td>AU</td>\n",
       "      <td>Australia</td>\n",
       "      <td>NaN</td>\n",
       "      <td>NaN</td>\n",
       "      <td>NaN</td>\n",
       "      <td>NaN</td>\n",
       "      <td>NaN</td>\n",
       "      <td>16/2/20</td>\n",
       "      <td>3.0</td>\n",
       "      <td>5.0</td>\n",
       "      <td>9.0</td>\n",
       "      <td>3.0</td>\n",
       "      <td>-1.0</td>\n",
       "      <td>0.0</td>\n",
       "    </tr>\n",
       "    <tr>\n",
       "      <th>150173</th>\n",
       "      <td>AU</td>\n",
       "      <td>Australia</td>\n",
       "      <td>NaN</td>\n",
       "      <td>NaN</td>\n",
       "      <td>NaN</td>\n",
       "      <td>NaN</td>\n",
       "      <td>NaN</td>\n",
       "      <td>17/2/20</td>\n",
       "      <td>-1.0</td>\n",
       "      <td>0.0</td>\n",
       "      <td>-6.0</td>\n",
       "      <td>7.0</td>\n",
       "      <td>17.0</td>\n",
       "      <td>-2.0</td>\n",
       "    </tr>\n",
       "    <tr>\n",
       "      <th>150174</th>\n",
       "      <td>AU</td>\n",
       "      <td>Australia</td>\n",
       "      <td>NaN</td>\n",
       "      <td>NaN</td>\n",
       "      <td>NaN</td>\n",
       "      <td>NaN</td>\n",
       "      <td>NaN</td>\n",
       "      <td>18/2/20</td>\n",
       "      <td>-3.0</td>\n",
       "      <td>-2.0</td>\n",
       "      <td>-13.0</td>\n",
       "      <td>7.0</td>\n",
       "      <td>14.0</td>\n",
       "      <td>-1.0</td>\n",
       "    </tr>\n",
       "    <tr>\n",
       "      <th>150175</th>\n",
       "      <td>AU</td>\n",
       "      <td>Australia</td>\n",
       "      <td>NaN</td>\n",
       "      <td>NaN</td>\n",
       "      <td>NaN</td>\n",
       "      <td>NaN</td>\n",
       "      <td>NaN</td>\n",
       "      <td>19/2/20</td>\n",
       "      <td>-1.0</td>\n",
       "      <td>-1.0</td>\n",
       "      <td>-6.0</td>\n",
       "      <td>8.0</td>\n",
       "      <td>13.0</td>\n",
       "      <td>-1.0</td>\n",
       "    </tr>\n",
       "  </tbody>\n",
       "</table>\n",
       "</div>"
      ],
      "text/plain": [
       "       country_region_code country_region sub_region_1 sub_region_2  \\\n",
       "150171                  AU      Australia          NaN          NaN   \n",
       "150172                  AU      Australia          NaN          NaN   \n",
       "150173                  AU      Australia          NaN          NaN   \n",
       "150174                  AU      Australia          NaN          NaN   \n",
       "150175                  AU      Australia          NaN          NaN   \n",
       "\n",
       "       metro_area iso_3166_2_code  census_fips_code     date  \\\n",
       "150171        NaN             NaN               NaN  15/2/20   \n",
       "150172        NaN             NaN               NaN  16/2/20   \n",
       "150173        NaN             NaN               NaN  17/2/20   \n",
       "150174        NaN             NaN               NaN  18/2/20   \n",
       "150175        NaN             NaN               NaN  19/2/20   \n",
       "\n",
       "        retail_and_recreation_percent_change_from_baseline  \\\n",
       "150171                                                4.0    \n",
       "150172                                                3.0    \n",
       "150173                                               -1.0    \n",
       "150174                                               -3.0    \n",
       "150175                                               -1.0    \n",
       "\n",
       "        grocery_and_pharmacy_percent_change_from_baseline  \\\n",
       "150171                                                3.0   \n",
       "150172                                                5.0   \n",
       "150173                                                0.0   \n",
       "150174                                               -2.0   \n",
       "150175                                               -1.0   \n",
       "\n",
       "        parks_percent_change_from_baseline  \\\n",
       "150171                                -2.0   \n",
       "150172                                 9.0   \n",
       "150173                                -6.0   \n",
       "150174                               -13.0   \n",
       "150175                                -6.0   \n",
       "\n",
       "        transit_stations_percent_change_from_baseline  \\\n",
       "150171                                            3.0   \n",
       "150172                                            3.0   \n",
       "150173                                            7.0   \n",
       "150174                                            7.0   \n",
       "150175                                            8.0   \n",
       "\n",
       "        workplaces_percent_change_from_baseline  \\\n",
       "150171                                      3.0   \n",
       "150172                                     -1.0   \n",
       "150173                                     17.0   \n",
       "150174                                     14.0   \n",
       "150175                                     13.0   \n",
       "\n",
       "        residential_percent_change_from_baseline  \n",
       "150171                                       0.0  \n",
       "150172                                       0.0  \n",
       "150173                                      -2.0  \n",
       "150174                                      -1.0  \n",
       "150175                                      -1.0  "
      ]
     },
     "execution_count": 4,
     "metadata": {},
     "output_type": "execute_result"
    }
   ],
   "source": [
    "### Select data from Australia\n",
    "aus = mobility.loc[mobility['country_region'] == 'Australia']\n",
    "aus.head()"
   ]
  },
  {
   "cell_type": "code",
   "execution_count": 5,
   "metadata": {},
   "outputs": [
    {
     "data": {
      "text/plain": [
       "(76688, 14)"
      ]
     },
     "execution_count": 5,
     "metadata": {},
     "output_type": "execute_result"
    }
   ],
   "source": [
    "#### Size of data set\n",
    "aus.shape"
   ]
  },
  {
   "cell_type": "code",
   "execution_count": 6,
   "metadata": {},
   "outputs": [
    {
     "data": {
      "text/html": [
       "<div>\n",
       "<style scoped>\n",
       "    .dataframe tbody tr th:only-of-type {\n",
       "        vertical-align: middle;\n",
       "    }\n",
       "\n",
       "    .dataframe tbody tr th {\n",
       "        vertical-align: top;\n",
       "    }\n",
       "\n",
       "    .dataframe thead th {\n",
       "        text-align: right;\n",
       "    }\n",
       "</style>\n",
       "<table border=\"1\" class=\"dataframe\">\n",
       "  <thead>\n",
       "    <tr style=\"text-align: right;\">\n",
       "      <th></th>\n",
       "      <th>country_region_code</th>\n",
       "      <th>country_region</th>\n",
       "      <th>sub_region_1</th>\n",
       "      <th>sub_region_2</th>\n",
       "      <th>iso_3166_2_code</th>\n",
       "      <th>date</th>\n",
       "      <th>retail_and_recreation_percent_change_from_baseline</th>\n",
       "      <th>grocery_and_pharmacy_percent_change_from_baseline</th>\n",
       "      <th>parks_percent_change_from_baseline</th>\n",
       "      <th>transit_stations_percent_change_from_baseline</th>\n",
       "      <th>workplaces_percent_change_from_baseline</th>\n",
       "      <th>residential_percent_change_from_baseline</th>\n",
       "    </tr>\n",
       "  </thead>\n",
       "  <tbody>\n",
       "    <tr>\n",
       "      <th>150171</th>\n",
       "      <td>AU</td>\n",
       "      <td>Australia</td>\n",
       "      <td>NaN</td>\n",
       "      <td>NaN</td>\n",
       "      <td>NaN</td>\n",
       "      <td>15/2/20</td>\n",
       "      <td>4.0</td>\n",
       "      <td>3.0</td>\n",
       "      <td>-2.0</td>\n",
       "      <td>3.0</td>\n",
       "      <td>3.0</td>\n",
       "      <td>0.0</td>\n",
       "    </tr>\n",
       "    <tr>\n",
       "      <th>150172</th>\n",
       "      <td>AU</td>\n",
       "      <td>Australia</td>\n",
       "      <td>NaN</td>\n",
       "      <td>NaN</td>\n",
       "      <td>NaN</td>\n",
       "      <td>16/2/20</td>\n",
       "      <td>3.0</td>\n",
       "      <td>5.0</td>\n",
       "      <td>9.0</td>\n",
       "      <td>3.0</td>\n",
       "      <td>-1.0</td>\n",
       "      <td>0.0</td>\n",
       "    </tr>\n",
       "    <tr>\n",
       "      <th>150173</th>\n",
       "      <td>AU</td>\n",
       "      <td>Australia</td>\n",
       "      <td>NaN</td>\n",
       "      <td>NaN</td>\n",
       "      <td>NaN</td>\n",
       "      <td>17/2/20</td>\n",
       "      <td>-1.0</td>\n",
       "      <td>0.0</td>\n",
       "      <td>-6.0</td>\n",
       "      <td>7.0</td>\n",
       "      <td>17.0</td>\n",
       "      <td>-2.0</td>\n",
       "    </tr>\n",
       "    <tr>\n",
       "      <th>150174</th>\n",
       "      <td>AU</td>\n",
       "      <td>Australia</td>\n",
       "      <td>NaN</td>\n",
       "      <td>NaN</td>\n",
       "      <td>NaN</td>\n",
       "      <td>18/2/20</td>\n",
       "      <td>-3.0</td>\n",
       "      <td>-2.0</td>\n",
       "      <td>-13.0</td>\n",
       "      <td>7.0</td>\n",
       "      <td>14.0</td>\n",
       "      <td>-1.0</td>\n",
       "    </tr>\n",
       "    <tr>\n",
       "      <th>150175</th>\n",
       "      <td>AU</td>\n",
       "      <td>Australia</td>\n",
       "      <td>NaN</td>\n",
       "      <td>NaN</td>\n",
       "      <td>NaN</td>\n",
       "      <td>19/2/20</td>\n",
       "      <td>-1.0</td>\n",
       "      <td>-1.0</td>\n",
       "      <td>-6.0</td>\n",
       "      <td>8.0</td>\n",
       "      <td>13.0</td>\n",
       "      <td>-1.0</td>\n",
       "    </tr>\n",
       "  </tbody>\n",
       "</table>\n",
       "</div>"
      ],
      "text/plain": [
       "       country_region_code country_region sub_region_1 sub_region_2  \\\n",
       "150171                  AU      Australia          NaN          NaN   \n",
       "150172                  AU      Australia          NaN          NaN   \n",
       "150173                  AU      Australia          NaN          NaN   \n",
       "150174                  AU      Australia          NaN          NaN   \n",
       "150175                  AU      Australia          NaN          NaN   \n",
       "\n",
       "       iso_3166_2_code     date  \\\n",
       "150171             NaN  15/2/20   \n",
       "150172             NaN  16/2/20   \n",
       "150173             NaN  17/2/20   \n",
       "150174             NaN  18/2/20   \n",
       "150175             NaN  19/2/20   \n",
       "\n",
       "        retail_and_recreation_percent_change_from_baseline  \\\n",
       "150171                                                4.0    \n",
       "150172                                                3.0    \n",
       "150173                                               -1.0    \n",
       "150174                                               -3.0    \n",
       "150175                                               -1.0    \n",
       "\n",
       "        grocery_and_pharmacy_percent_change_from_baseline  \\\n",
       "150171                                                3.0   \n",
       "150172                                                5.0   \n",
       "150173                                                0.0   \n",
       "150174                                               -2.0   \n",
       "150175                                               -1.0   \n",
       "\n",
       "        parks_percent_change_from_baseline  \\\n",
       "150171                                -2.0   \n",
       "150172                                 9.0   \n",
       "150173                                -6.0   \n",
       "150174                               -13.0   \n",
       "150175                                -6.0   \n",
       "\n",
       "        transit_stations_percent_change_from_baseline  \\\n",
       "150171                                            3.0   \n",
       "150172                                            3.0   \n",
       "150173                                            7.0   \n",
       "150174                                            7.0   \n",
       "150175                                            8.0   \n",
       "\n",
       "        workplaces_percent_change_from_baseline  \\\n",
       "150171                                      3.0   \n",
       "150172                                     -1.0   \n",
       "150173                                     17.0   \n",
       "150174                                     14.0   \n",
       "150175                                     13.0   \n",
       "\n",
       "        residential_percent_change_from_baseline  \n",
       "150171                                       0.0  \n",
       "150172                                       0.0  \n",
       "150173                                      -2.0  \n",
       "150174                                      -1.0  \n",
       "150175                                      -1.0  "
      ]
     },
     "execution_count": 6,
     "metadata": {},
     "output_type": "execute_result"
    }
   ],
   "source": [
    "### Remove any columns in the data set that contain no data\n",
    "aus = aus.dropna(axis = 1, how = 'all')\n",
    "aus.head()"
   ]
  },
  {
   "cell_type": "code",
   "execution_count": 7,
   "metadata": {},
   "outputs": [
    {
     "data": {
      "text/plain": [
       "array([nan, 'Australian Capital Territory', 'New South Wales',\n",
       "       'Northern Territory', 'Queensland', 'South Australia', 'Tasmania',\n",
       "       'Victoria', 'Western Australia'], dtype=object)"
      ]
     },
     "execution_count": 7,
     "metadata": {},
     "output_type": "execute_result"
    }
   ],
   "source": [
    "###  Identify all the sub regions in Australia\n",
    "aus['sub_region_1'].unique()"
   ]
  },
  {
   "cell_type": "code",
   "execution_count": null,
   "metadata": {},
   "outputs": [],
   "source": []
  },
  {
   "cell_type": "code",
   "execution_count": 8,
   "metadata": {
    "scrolled": true
   },
   "outputs": [
    {
     "data": {
      "text/html": [
       "<div>\n",
       "<style scoped>\n",
       "    .dataframe tbody tr th:only-of-type {\n",
       "        vertical-align: middle;\n",
       "    }\n",
       "\n",
       "    .dataframe tbody tr th {\n",
       "        vertical-align: top;\n",
       "    }\n",
       "\n",
       "    .dataframe thead th {\n",
       "        text-align: right;\n",
       "    }\n",
       "</style>\n",
       "<table border=\"1\" class=\"dataframe\">\n",
       "  <thead>\n",
       "    <tr style=\"text-align: right;\">\n",
       "      <th></th>\n",
       "      <th>country_region_code</th>\n",
       "      <th>country_region</th>\n",
       "      <th>sub_region_1</th>\n",
       "      <th>sub_region_2</th>\n",
       "      <th>iso_3166_2_code</th>\n",
       "      <th>date</th>\n",
       "      <th>retail_and_recreation_percent_change_from_baseline</th>\n",
       "      <th>grocery_and_pharmacy_percent_change_from_baseline</th>\n",
       "      <th>parks_percent_change_from_baseline</th>\n",
       "      <th>transit_stations_percent_change_from_baseline</th>\n",
       "      <th>workplaces_percent_change_from_baseline</th>\n",
       "      <th>residential_percent_change_from_baseline</th>\n",
       "    </tr>\n",
       "  </thead>\n",
       "  <tbody>\n",
       "    <tr>\n",
       "      <th>196972</th>\n",
       "      <td>AU</td>\n",
       "      <td>Australia</td>\n",
       "      <td>Victoria</td>\n",
       "      <td>NaN</td>\n",
       "      <td>AU-VIC</td>\n",
       "      <td>15/2/20</td>\n",
       "      <td>3.0</td>\n",
       "      <td>3.0</td>\n",
       "      <td>-22.0</td>\n",
       "      <td>1.0</td>\n",
       "      <td>3.0</td>\n",
       "      <td>1.0</td>\n",
       "    </tr>\n",
       "    <tr>\n",
       "      <th>196973</th>\n",
       "      <td>AU</td>\n",
       "      <td>Australia</td>\n",
       "      <td>Victoria</td>\n",
       "      <td>NaN</td>\n",
       "      <td>AU-VIC</td>\n",
       "      <td>16/2/20</td>\n",
       "      <td>3.0</td>\n",
       "      <td>4.0</td>\n",
       "      <td>2.0</td>\n",
       "      <td>0.0</td>\n",
       "      <td>-2.0</td>\n",
       "      <td>0.0</td>\n",
       "    </tr>\n",
       "    <tr>\n",
       "      <th>196974</th>\n",
       "      <td>AU</td>\n",
       "      <td>Australia</td>\n",
       "      <td>Victoria</td>\n",
       "      <td>NaN</td>\n",
       "      <td>AU-VIC</td>\n",
       "      <td>17/2/20</td>\n",
       "      <td>-1.0</td>\n",
       "      <td>1.0</td>\n",
       "      <td>26.0</td>\n",
       "      <td>11.0</td>\n",
       "      <td>18.0</td>\n",
       "      <td>-3.0</td>\n",
       "    </tr>\n",
       "    <tr>\n",
       "      <th>196975</th>\n",
       "      <td>AU</td>\n",
       "      <td>Australia</td>\n",
       "      <td>Victoria</td>\n",
       "      <td>NaN</td>\n",
       "      <td>AU-VIC</td>\n",
       "      <td>18/2/20</td>\n",
       "      <td>-6.0</td>\n",
       "      <td>-6.0</td>\n",
       "      <td>-27.0</td>\n",
       "      <td>5.0</td>\n",
       "      <td>13.0</td>\n",
       "      <td>0.0</td>\n",
       "    </tr>\n",
       "    <tr>\n",
       "      <th>196976</th>\n",
       "      <td>AU</td>\n",
       "      <td>Australia</td>\n",
       "      <td>Victoria</td>\n",
       "      <td>NaN</td>\n",
       "      <td>AU-VIC</td>\n",
       "      <td>19/2/20</td>\n",
       "      <td>-2.0</td>\n",
       "      <td>-2.0</td>\n",
       "      <td>-17.0</td>\n",
       "      <td>6.0</td>\n",
       "      <td>13.0</td>\n",
       "      <td>-1.0</td>\n",
       "    </tr>\n",
       "  </tbody>\n",
       "</table>\n",
       "</div>"
      ],
      "text/plain": [
       "       country_region_code country_region sub_region_1 sub_region_2  \\\n",
       "196972                  AU      Australia     Victoria          NaN   \n",
       "196973                  AU      Australia     Victoria          NaN   \n",
       "196974                  AU      Australia     Victoria          NaN   \n",
       "196975                  AU      Australia     Victoria          NaN   \n",
       "196976                  AU      Australia     Victoria          NaN   \n",
       "\n",
       "       iso_3166_2_code     date  \\\n",
       "196972          AU-VIC  15/2/20   \n",
       "196973          AU-VIC  16/2/20   \n",
       "196974          AU-VIC  17/2/20   \n",
       "196975          AU-VIC  18/2/20   \n",
       "196976          AU-VIC  19/2/20   \n",
       "\n",
       "        retail_and_recreation_percent_change_from_baseline  \\\n",
       "196972                                                3.0    \n",
       "196973                                                3.0    \n",
       "196974                                               -1.0    \n",
       "196975                                               -6.0    \n",
       "196976                                               -2.0    \n",
       "\n",
       "        grocery_and_pharmacy_percent_change_from_baseline  \\\n",
       "196972                                                3.0   \n",
       "196973                                                4.0   \n",
       "196974                                                1.0   \n",
       "196975                                               -6.0   \n",
       "196976                                               -2.0   \n",
       "\n",
       "        parks_percent_change_from_baseline  \\\n",
       "196972                               -22.0   \n",
       "196973                                 2.0   \n",
       "196974                                26.0   \n",
       "196975                               -27.0   \n",
       "196976                               -17.0   \n",
       "\n",
       "        transit_stations_percent_change_from_baseline  \\\n",
       "196972                                            1.0   \n",
       "196973                                            0.0   \n",
       "196974                                           11.0   \n",
       "196975                                            5.0   \n",
       "196976                                            6.0   \n",
       "\n",
       "        workplaces_percent_change_from_baseline  \\\n",
       "196972                                      3.0   \n",
       "196973                                     -2.0   \n",
       "196974                                     18.0   \n",
       "196975                                     13.0   \n",
       "196976                                     13.0   \n",
       "\n",
       "        residential_percent_change_from_baseline  \n",
       "196972                                       1.0  \n",
       "196973                                       0.0  \n",
       "196974                                      -3.0  \n",
       "196975                                       0.0  \n",
       "196976                                      -1.0  "
      ]
     },
     "execution_count": 8,
     "metadata": {},
     "output_type": "execute_result"
    }
   ],
   "source": [
    "###Select data from Victoria\n",
    "vic = aus.loc[aus['sub_region_1'] == 'Victoria']\n",
    "vic.head()"
   ]
  },
  {
   "cell_type": "code",
   "execution_count": 9,
   "metadata": {},
   "outputs": [
    {
     "data": {
      "text/plain": [
       "(17853, 12)"
      ]
     },
     "execution_count": 9,
     "metadata": {},
     "output_type": "execute_result"
    }
   ],
   "source": [
    "vic.shape"
   ]
  },
  {
   "cell_type": "code",
   "execution_count": 10,
   "metadata": {},
   "outputs": [
    {
     "data": {
      "text/plain": [
       "array(['AU-VIC', nan], dtype=object)"
      ]
     },
     "execution_count": 10,
     "metadata": {},
     "output_type": "execute_result"
    }
   ],
   "source": [
    "vic['iso_3166_2_code'].unique()"
   ]
  },
  {
   "cell_type": "code",
   "execution_count": 11,
   "metadata": {},
   "outputs": [
    {
     "data": {
      "text/html": [
       "<div>\n",
       "<style scoped>\n",
       "    .dataframe tbody tr th:only-of-type {\n",
       "        vertical-align: middle;\n",
       "    }\n",
       "\n",
       "    .dataframe tbody tr th {\n",
       "        vertical-align: top;\n",
       "    }\n",
       "\n",
       "    .dataframe thead th {\n",
       "        text-align: right;\n",
       "    }\n",
       "</style>\n",
       "<table border=\"1\" class=\"dataframe\">\n",
       "  <thead>\n",
       "    <tr style=\"text-align: right;\">\n",
       "      <th></th>\n",
       "      <th>sub_region_2</th>\n",
       "      <th>date</th>\n",
       "      <th>retail_and_recreation_percent_change_from_baseline</th>\n",
       "      <th>grocery_and_pharmacy_percent_change_from_baseline</th>\n",
       "      <th>parks_percent_change_from_baseline</th>\n",
       "      <th>transit_stations_percent_change_from_baseline</th>\n",
       "      <th>workplaces_percent_change_from_baseline</th>\n",
       "      <th>residential_percent_change_from_baseline</th>\n",
       "    </tr>\n",
       "  </thead>\n",
       "  <tbody>\n",
       "    <tr>\n",
       "      <th>196972</th>\n",
       "      <td>NaN</td>\n",
       "      <td>15/2/20</td>\n",
       "      <td>3.0</td>\n",
       "      <td>3.0</td>\n",
       "      <td>-22.0</td>\n",
       "      <td>1.0</td>\n",
       "      <td>3.0</td>\n",
       "      <td>1.0</td>\n",
       "    </tr>\n",
       "    <tr>\n",
       "      <th>196973</th>\n",
       "      <td>NaN</td>\n",
       "      <td>16/2/20</td>\n",
       "      <td>3.0</td>\n",
       "      <td>4.0</td>\n",
       "      <td>2.0</td>\n",
       "      <td>0.0</td>\n",
       "      <td>-2.0</td>\n",
       "      <td>0.0</td>\n",
       "    </tr>\n",
       "    <tr>\n",
       "      <th>196974</th>\n",
       "      <td>NaN</td>\n",
       "      <td>17/2/20</td>\n",
       "      <td>-1.0</td>\n",
       "      <td>1.0</td>\n",
       "      <td>26.0</td>\n",
       "      <td>11.0</td>\n",
       "      <td>18.0</td>\n",
       "      <td>-3.0</td>\n",
       "    </tr>\n",
       "    <tr>\n",
       "      <th>196975</th>\n",
       "      <td>NaN</td>\n",
       "      <td>18/2/20</td>\n",
       "      <td>-6.0</td>\n",
       "      <td>-6.0</td>\n",
       "      <td>-27.0</td>\n",
       "      <td>5.0</td>\n",
       "      <td>13.0</td>\n",
       "      <td>0.0</td>\n",
       "    </tr>\n",
       "    <tr>\n",
       "      <th>196976</th>\n",
       "      <td>NaN</td>\n",
       "      <td>19/2/20</td>\n",
       "      <td>-2.0</td>\n",
       "      <td>-2.0</td>\n",
       "      <td>-17.0</td>\n",
       "      <td>6.0</td>\n",
       "      <td>13.0</td>\n",
       "      <td>-1.0</td>\n",
       "    </tr>\n",
       "  </tbody>\n",
       "</table>\n",
       "</div>"
      ],
      "text/plain": [
       "       sub_region_2     date  \\\n",
       "196972          NaN  15/2/20   \n",
       "196973          NaN  16/2/20   \n",
       "196974          NaN  17/2/20   \n",
       "196975          NaN  18/2/20   \n",
       "196976          NaN  19/2/20   \n",
       "\n",
       "        retail_and_recreation_percent_change_from_baseline  \\\n",
       "196972                                                3.0    \n",
       "196973                                                3.0    \n",
       "196974                                               -1.0    \n",
       "196975                                               -6.0    \n",
       "196976                                               -2.0    \n",
       "\n",
       "        grocery_and_pharmacy_percent_change_from_baseline  \\\n",
       "196972                                                3.0   \n",
       "196973                                                4.0   \n",
       "196974                                                1.0   \n",
       "196975                                               -6.0   \n",
       "196976                                               -2.0   \n",
       "\n",
       "        parks_percent_change_from_baseline  \\\n",
       "196972                               -22.0   \n",
       "196973                                 2.0   \n",
       "196974                                26.0   \n",
       "196975                               -27.0   \n",
       "196976                               -17.0   \n",
       "\n",
       "        transit_stations_percent_change_from_baseline  \\\n",
       "196972                                            1.0   \n",
       "196973                                            0.0   \n",
       "196974                                           11.0   \n",
       "196975                                            5.0   \n",
       "196976                                            6.0   \n",
       "\n",
       "        workplaces_percent_change_from_baseline  \\\n",
       "196972                                      3.0   \n",
       "196973                                     -2.0   \n",
       "196974                                     18.0   \n",
       "196975                                     13.0   \n",
       "196976                                     13.0   \n",
       "\n",
       "        residential_percent_change_from_baseline  \n",
       "196972                                       1.0  \n",
       "196973                                       0.0  \n",
       "196974                                      -3.0  \n",
       "196975                                       0.0  \n",
       "196976                                      -1.0  "
      ]
     },
     "execution_count": 11,
     "metadata": {},
     "output_type": "execute_result"
    }
   ],
   "source": [
    "### Select relevant variables for data subset\n",
    "vic = pd.concat([vic.iloc[:,3],vic.iloc[:,5:]], axis = 1)\n",
    "vic.head()"
   ]
  },
  {
   "cell_type": "code",
   "execution_count": null,
   "metadata": {},
   "outputs": [],
   "source": []
  },
  {
   "cell_type": "code",
   "execution_count": 12,
   "metadata": {},
   "outputs": [
    {
     "data": {
      "text/plain": [
       "array([nan, 'Alpine Shire', 'Ballarat City', 'Banyule City',\n",
       "       'Bass Coast Shire', 'Baw Baw Shire', 'Bayside City',\n",
       "       'Benalla Rural City', 'Boroondara City', 'Brimbank City',\n",
       "       'Campaspe Shire', 'Cardinia Shire', 'Central Goldfields Shire',\n",
       "       'City of Casey', 'City of Hume', 'City of Knox',\n",
       "       'City of Maribyrnong', 'City of Wyndham', 'City of Yarra',\n",
       "       'Colac Otway Shire', 'Corangamite Shire', 'Darebin City',\n",
       "       'East Gippsland Shire', 'Frankston City', 'Glen Eira City',\n",
       "       'Glenelg Shire', 'Golden Plains Shire', 'Greater Bendigo City',\n",
       "       'Greater Dandenong City', 'Greater Geelong City',\n",
       "       'Greater Shepparton City', 'Hepburn Shire', 'Hobsons Bay City',\n",
       "       'Horsham Rural City', 'Indigo Shire', 'Kingston City',\n",
       "       'Latrobe City', 'Macedon Ranges Shire', 'Manningham City',\n",
       "       'Maroondah City', 'Melbourne City', 'Melton City',\n",
       "       'Mildura Rural City', 'Mitchell Shire', 'Moira Shire',\n",
       "       'Monash City', 'Moonee Valley City', 'Moorabool Shire',\n",
       "       'Moreland City', 'Mount Alexander Shire', 'Moyne Shire',\n",
       "       'Murrindindi Shire', 'Nillumbik Shire', 'Northern Grampians Shire',\n",
       "       'Port Phillip City', 'Shire of Mornington Peninsula',\n",
       "       'South Gippsland Shire', 'Southern Grampians Shire',\n",
       "       'Stonnington City', 'Surf Coast Shire', 'Swan Hill Rural City',\n",
       "       'Wangaratta Rural City', 'Warrnambool City', 'Wellington Shire',\n",
       "       'Whitehorse City', 'Whittlesea City', 'Wodonga City',\n",
       "       'Yarra Ranges Shire'], dtype=object)"
      ]
     },
     "execution_count": 12,
     "metadata": {},
     "output_type": "execute_result"
    }
   ],
   "source": [
    "### Start process to select data from Melbourne\n",
    "### List sub regions of Victoria where data was collected\n",
    "vic['sub_region_2'].unique()"
   ]
  },
  {
   "cell_type": "code",
   "execution_count": null,
   "metadata": {},
   "outputs": [],
   "source": []
  },
  {
   "cell_type": "code",
   "execution_count": 13,
   "metadata": {},
   "outputs": [
    {
     "data": {
      "text/html": [
       "<div>\n",
       "<style scoped>\n",
       "    .dataframe tbody tr th:only-of-type {\n",
       "        vertical-align: middle;\n",
       "    }\n",
       "\n",
       "    .dataframe tbody tr th {\n",
       "        vertical-align: top;\n",
       "    }\n",
       "\n",
       "    .dataframe thead th {\n",
       "        text-align: right;\n",
       "    }\n",
       "</style>\n",
       "<table border=\"1\" class=\"dataframe\">\n",
       "  <thead>\n",
       "    <tr style=\"text-align: right;\">\n",
       "      <th></th>\n",
       "      <th>sub_region_2</th>\n",
       "      <th>date</th>\n",
       "      <th>retail_and_recreation_percent_change_from_baseline</th>\n",
       "      <th>grocery_and_pharmacy_percent_change_from_baseline</th>\n",
       "      <th>parks_percent_change_from_baseline</th>\n",
       "      <th>transit_stations_percent_change_from_baseline</th>\n",
       "      <th>workplaces_percent_change_from_baseline</th>\n",
       "      <th>residential_percent_change_from_baseline</th>\n",
       "    </tr>\n",
       "  </thead>\n",
       "  <tbody>\n",
       "    <tr>\n",
       "      <th>197662</th>\n",
       "      <td>Banyule City</td>\n",
       "      <td>15/2/20</td>\n",
       "      <td>13.0</td>\n",
       "      <td>6.0</td>\n",
       "      <td>-21.0</td>\n",
       "      <td>14.0</td>\n",
       "      <td>2.0</td>\n",
       "      <td>0.0</td>\n",
       "    </tr>\n",
       "    <tr>\n",
       "      <th>197663</th>\n",
       "      <td>Banyule City</td>\n",
       "      <td>16/2/20</td>\n",
       "      <td>12.0</td>\n",
       "      <td>10.0</td>\n",
       "      <td>48.0</td>\n",
       "      <td>2.0</td>\n",
       "      <td>4.0</td>\n",
       "      <td>0.0</td>\n",
       "    </tr>\n",
       "    <tr>\n",
       "      <th>197664</th>\n",
       "      <td>Banyule City</td>\n",
       "      <td>17/2/20</td>\n",
       "      <td>3.0</td>\n",
       "      <td>-3.0</td>\n",
       "      <td>20.0</td>\n",
       "      <td>21.0</td>\n",
       "      <td>20.0</td>\n",
       "      <td>-3.0</td>\n",
       "    </tr>\n",
       "    <tr>\n",
       "      <th>197665</th>\n",
       "      <td>Banyule City</td>\n",
       "      <td>18/2/20</td>\n",
       "      <td>0.0</td>\n",
       "      <td>-6.0</td>\n",
       "      <td>-21.0</td>\n",
       "      <td>8.0</td>\n",
       "      <td>16.0</td>\n",
       "      <td>0.0</td>\n",
       "    </tr>\n",
       "    <tr>\n",
       "      <th>197666</th>\n",
       "      <td>Banyule City</td>\n",
       "      <td>19/2/20</td>\n",
       "      <td>0.0</td>\n",
       "      <td>-1.0</td>\n",
       "      <td>-9.0</td>\n",
       "      <td>11.0</td>\n",
       "      <td>15.0</td>\n",
       "      <td>-1.0</td>\n",
       "    </tr>\n",
       "  </tbody>\n",
       "</table>\n",
       "</div>"
      ],
      "text/plain": [
       "        sub_region_2     date  \\\n",
       "197662  Banyule City  15/2/20   \n",
       "197663  Banyule City  16/2/20   \n",
       "197664  Banyule City  17/2/20   \n",
       "197665  Banyule City  18/2/20   \n",
       "197666  Banyule City  19/2/20   \n",
       "\n",
       "        retail_and_recreation_percent_change_from_baseline  \\\n",
       "197662                                               13.0    \n",
       "197663                                               12.0    \n",
       "197664                                                3.0    \n",
       "197665                                                0.0    \n",
       "197666                                                0.0    \n",
       "\n",
       "        grocery_and_pharmacy_percent_change_from_baseline  \\\n",
       "197662                                                6.0   \n",
       "197663                                               10.0   \n",
       "197664                                               -3.0   \n",
       "197665                                               -6.0   \n",
       "197666                                               -1.0   \n",
       "\n",
       "        parks_percent_change_from_baseline  \\\n",
       "197662                               -21.0   \n",
       "197663                                48.0   \n",
       "197664                                20.0   \n",
       "197665                               -21.0   \n",
       "197666                                -9.0   \n",
       "\n",
       "        transit_stations_percent_change_from_baseline  \\\n",
       "197662                                           14.0   \n",
       "197663                                            2.0   \n",
       "197664                                           21.0   \n",
       "197665                                            8.0   \n",
       "197666                                           11.0   \n",
       "\n",
       "        workplaces_percent_change_from_baseline  \\\n",
       "197662                                      2.0   \n",
       "197663                                      4.0   \n",
       "197664                                     20.0   \n",
       "197665                                     16.0   \n",
       "197666                                     15.0   \n",
       "\n",
       "        residential_percent_change_from_baseline  \n",
       "197662                                       0.0  \n",
       "197663                                       0.0  \n",
       "197664                                      -3.0  \n",
       "197665                                       0.0  \n",
       "197666                                      -1.0  "
      ]
     },
     "execution_count": 13,
     "metadata": {},
     "output_type": "execute_result"
    }
   ],
   "source": [
    "### Select mobility data for the Melbourne metro area to build final data subset\n",
    "\n",
    "### Remove rows with NaN values for the variable sub_region_2\n",
    "vic_sub = vic.dropna(axis = 0, subset= ['sub_region_2'])\n",
    "### Select data from 31 Melboourne councils\n",
    "melb = vic_sub[vic_sub['sub_region_2'].str.contains('Bayside|Banyule|Booroondara|Brimbank|Cardinia|Casey'\n",
    "        '|Darebin|Frankston|Glen Eira|Greater Dandenong|Hobsons Bay|Hume|Kingston|Knox|Manningham|Maribyrnong'\n",
    "        '|Maroondah|Melbourne|Melton|Monash|Moonee Valley|Moreland|Mornington Peninsula|Nillumbik|Port Phillip'\n",
    "        '|Stonnington|Whitehorse|Whittlesea|Wyndham|Yarra|Yarra Ranges')]\n",
    "melb.head()"
   ]
  },
  {
   "cell_type": "code",
   "execution_count": 14,
   "metadata": {},
   "outputs": [
    {
     "data": {
      "text/plain": [
       "(8708, 8)"
      ]
     },
     "execution_count": 14,
     "metadata": {},
     "output_type": "execute_result"
    }
   ],
   "source": [
    "### Size of Melbourne data subset\n",
    "melb.shape"
   ]
  },
  {
   "cell_type": "code",
   "execution_count": null,
   "metadata": {},
   "outputs": [],
   "source": []
  },
  {
   "cell_type": "code",
   "execution_count": null,
   "metadata": {},
   "outputs": [],
   "source": []
  },
  {
   "cell_type": "code",
   "execution_count": 15,
   "metadata": {},
   "outputs": [],
   "source": [
    "##### PART 2 - DATABASE DESIGN #####"
   ]
  },
  {
   "cell_type": "code",
   "execution_count": 16,
   "metadata": {},
   "outputs": [],
   "source": [
    "import pymongo\n",
    "from pymongo import MongoClient"
   ]
  },
  {
   "cell_type": "code",
   "execution_count": 17,
   "metadata": {
    "scrolled": true
   },
   "outputs": [
    {
     "data": {
      "text/html": [
       "<div>\n",
       "<style scoped>\n",
       "    .dataframe tbody tr th:only-of-type {\n",
       "        vertical-align: middle;\n",
       "    }\n",
       "\n",
       "    .dataframe tbody tr th {\n",
       "        vertical-align: top;\n",
       "    }\n",
       "\n",
       "    .dataframe thead th {\n",
       "        text-align: right;\n",
       "    }\n",
       "</style>\n",
       "<table border=\"1\" class=\"dataframe\">\n",
       "  <thead>\n",
       "    <tr style=\"text-align: right;\">\n",
       "      <th></th>\n",
       "      <th>sub_region_2</th>\n",
       "      <th>date</th>\n",
       "      <th>retail_and_recreation_percent_change_from_baseline</th>\n",
       "      <th>grocery_and_pharmacy_percent_change_from_baseline</th>\n",
       "      <th>parks_percent_change_from_baseline</th>\n",
       "      <th>transit_stations_percent_change_from_baseline</th>\n",
       "      <th>workplaces_percent_change_from_baseline</th>\n",
       "      <th>residential_percent_change_from_baseline</th>\n",
       "    </tr>\n",
       "  </thead>\n",
       "  <tbody>\n",
       "    <tr>\n",
       "      <th>197662</th>\n",
       "      <td>Banyule City</td>\n",
       "      <td>15/2/20</td>\n",
       "      <td>13.0</td>\n",
       "      <td>6.0</td>\n",
       "      <td>-21.0</td>\n",
       "      <td>14.0</td>\n",
       "      <td>2.0</td>\n",
       "      <td>0.0</td>\n",
       "    </tr>\n",
       "    <tr>\n",
       "      <th>197663</th>\n",
       "      <td>Banyule City</td>\n",
       "      <td>16/2/20</td>\n",
       "      <td>12.0</td>\n",
       "      <td>10.0</td>\n",
       "      <td>48.0</td>\n",
       "      <td>2.0</td>\n",
       "      <td>4.0</td>\n",
       "      <td>0.0</td>\n",
       "    </tr>\n",
       "    <tr>\n",
       "      <th>197664</th>\n",
       "      <td>Banyule City</td>\n",
       "      <td>17/2/20</td>\n",
       "      <td>3.0</td>\n",
       "      <td>-3.0</td>\n",
       "      <td>20.0</td>\n",
       "      <td>21.0</td>\n",
       "      <td>20.0</td>\n",
       "      <td>-3.0</td>\n",
       "    </tr>\n",
       "    <tr>\n",
       "      <th>197665</th>\n",
       "      <td>Banyule City</td>\n",
       "      <td>18/2/20</td>\n",
       "      <td>0.0</td>\n",
       "      <td>-6.0</td>\n",
       "      <td>-21.0</td>\n",
       "      <td>8.0</td>\n",
       "      <td>16.0</td>\n",
       "      <td>0.0</td>\n",
       "    </tr>\n",
       "    <tr>\n",
       "      <th>197666</th>\n",
       "      <td>Banyule City</td>\n",
       "      <td>19/2/20</td>\n",
       "      <td>0.0</td>\n",
       "      <td>-1.0</td>\n",
       "      <td>-9.0</td>\n",
       "      <td>11.0</td>\n",
       "      <td>15.0</td>\n",
       "      <td>-1.0</td>\n",
       "    </tr>\n",
       "  </tbody>\n",
       "</table>\n",
       "</div>"
      ],
      "text/plain": [
       "        sub_region_2     date  \\\n",
       "197662  Banyule City  15/2/20   \n",
       "197663  Banyule City  16/2/20   \n",
       "197664  Banyule City  17/2/20   \n",
       "197665  Banyule City  18/2/20   \n",
       "197666  Banyule City  19/2/20   \n",
       "\n",
       "        retail_and_recreation_percent_change_from_baseline  \\\n",
       "197662                                               13.0    \n",
       "197663                                               12.0    \n",
       "197664                                                3.0    \n",
       "197665                                                0.0    \n",
       "197666                                                0.0    \n",
       "\n",
       "        grocery_and_pharmacy_percent_change_from_baseline  \\\n",
       "197662                                                6.0   \n",
       "197663                                               10.0   \n",
       "197664                                               -3.0   \n",
       "197665                                               -6.0   \n",
       "197666                                               -1.0   \n",
       "\n",
       "        parks_percent_change_from_baseline  \\\n",
       "197662                               -21.0   \n",
       "197663                                48.0   \n",
       "197664                                20.0   \n",
       "197665                               -21.0   \n",
       "197666                                -9.0   \n",
       "\n",
       "        transit_stations_percent_change_from_baseline  \\\n",
       "197662                                           14.0   \n",
       "197663                                            2.0   \n",
       "197664                                           21.0   \n",
       "197665                                            8.0   \n",
       "197666                                           11.0   \n",
       "\n",
       "        workplaces_percent_change_from_baseline  \\\n",
       "197662                                      2.0   \n",
       "197663                                      4.0   \n",
       "197664                                     20.0   \n",
       "197665                                     16.0   \n",
       "197666                                     15.0   \n",
       "\n",
       "        residential_percent_change_from_baseline  \n",
       "197662                                       0.0  \n",
       "197663                                       0.0  \n",
       "197664                                      -3.0  \n",
       "197665                                       0.0  \n",
       "197666                                      -1.0  "
      ]
     },
     "execution_count": 17,
     "metadata": {},
     "output_type": "execute_result"
    }
   ],
   "source": [
    "### Prepare Melbourne data subset for entry into database\n",
    "### View Melbourne data subset\n",
    "melb.head()"
   ]
  },
  {
   "cell_type": "code",
   "execution_count": 18,
   "metadata": {},
   "outputs": [
    {
     "data": {
      "text/html": [
       "<div>\n",
       "<style scoped>\n",
       "    .dataframe tbody tr th:only-of-type {\n",
       "        vertical-align: middle;\n",
       "    }\n",
       "\n",
       "    .dataframe tbody tr th {\n",
       "        vertical-align: top;\n",
       "    }\n",
       "\n",
       "    .dataframe thead th {\n",
       "        text-align: right;\n",
       "    }\n",
       "</style>\n",
       "<table border=\"1\" class=\"dataframe\">\n",
       "  <thead>\n",
       "    <tr style=\"text-align: right;\">\n",
       "      <th></th>\n",
       "      <th>sub_region_2</th>\n",
       "      <th>date</th>\n",
       "      <th>retail_and_recreation_percent_change_from_baseline</th>\n",
       "      <th>grocery_and_pharmacy_percent_change_from_baseline</th>\n",
       "      <th>parks_percent_change_from_baseline</th>\n",
       "      <th>transit_stations_percent_change_from_baseline</th>\n",
       "      <th>workplaces_percent_change_from_baseline</th>\n",
       "      <th>residential_percent_change_from_baseline</th>\n",
       "    </tr>\n",
       "  </thead>\n",
       "  <tbody>\n",
       "    <tr>\n",
       "      <th>0</th>\n",
       "      <td>Banyule City</td>\n",
       "      <td>15/2/20</td>\n",
       "      <td>13.0</td>\n",
       "      <td>6.0</td>\n",
       "      <td>-21.0</td>\n",
       "      <td>14.0</td>\n",
       "      <td>2.0</td>\n",
       "      <td>0.0</td>\n",
       "    </tr>\n",
       "    <tr>\n",
       "      <th>1</th>\n",
       "      <td>Banyule City</td>\n",
       "      <td>16/2/20</td>\n",
       "      <td>12.0</td>\n",
       "      <td>10.0</td>\n",
       "      <td>48.0</td>\n",
       "      <td>2.0</td>\n",
       "      <td>4.0</td>\n",
       "      <td>0.0</td>\n",
       "    </tr>\n",
       "    <tr>\n",
       "      <th>2</th>\n",
       "      <td>Banyule City</td>\n",
       "      <td>17/2/20</td>\n",
       "      <td>3.0</td>\n",
       "      <td>-3.0</td>\n",
       "      <td>20.0</td>\n",
       "      <td>21.0</td>\n",
       "      <td>20.0</td>\n",
       "      <td>-3.0</td>\n",
       "    </tr>\n",
       "    <tr>\n",
       "      <th>3</th>\n",
       "      <td>Banyule City</td>\n",
       "      <td>18/2/20</td>\n",
       "      <td>0.0</td>\n",
       "      <td>-6.0</td>\n",
       "      <td>-21.0</td>\n",
       "      <td>8.0</td>\n",
       "      <td>16.0</td>\n",
       "      <td>0.0</td>\n",
       "    </tr>\n",
       "    <tr>\n",
       "      <th>4</th>\n",
       "      <td>Banyule City</td>\n",
       "      <td>19/2/20</td>\n",
       "      <td>0.0</td>\n",
       "      <td>-1.0</td>\n",
       "      <td>-9.0</td>\n",
       "      <td>11.0</td>\n",
       "      <td>15.0</td>\n",
       "      <td>-1.0</td>\n",
       "    </tr>\n",
       "  </tbody>\n",
       "</table>\n",
       "</div>"
      ],
      "text/plain": [
       "   sub_region_2     date  retail_and_recreation_percent_change_from_baseline  \\\n",
       "0  Banyule City  15/2/20                                               13.0    \n",
       "1  Banyule City  16/2/20                                               12.0    \n",
       "2  Banyule City  17/2/20                                                3.0    \n",
       "3  Banyule City  18/2/20                                                0.0    \n",
       "4  Banyule City  19/2/20                                                0.0    \n",
       "\n",
       "   grocery_and_pharmacy_percent_change_from_baseline  \\\n",
       "0                                                6.0   \n",
       "1                                               10.0   \n",
       "2                                               -3.0   \n",
       "3                                               -6.0   \n",
       "4                                               -1.0   \n",
       "\n",
       "   parks_percent_change_from_baseline  \\\n",
       "0                               -21.0   \n",
       "1                                48.0   \n",
       "2                                20.0   \n",
       "3                               -21.0   \n",
       "4                                -9.0   \n",
       "\n",
       "   transit_stations_percent_change_from_baseline  \\\n",
       "0                                           14.0   \n",
       "1                                            2.0   \n",
       "2                                           21.0   \n",
       "3                                            8.0   \n",
       "4                                           11.0   \n",
       "\n",
       "   workplaces_percent_change_from_baseline  \\\n",
       "0                                      2.0   \n",
       "1                                      4.0   \n",
       "2                                     20.0   \n",
       "3                                     16.0   \n",
       "4                                     15.0   \n",
       "\n",
       "   residential_percent_change_from_baseline  \n",
       "0                                       0.0  \n",
       "1                                       0.0  \n",
       "2                                      -3.0  \n",
       "3                                       0.0  \n",
       "4                                      -1.0  "
      ]
     },
     "execution_count": 18,
     "metadata": {},
     "output_type": "execute_result"
    }
   ],
   "source": [
    "### Reset index for Melbourne data subset\n",
    "melb.reset_index(level = 0, inplace = True)\n",
    "del(melb['index'])\n",
    "melb.head()"
   ]
  },
  {
   "cell_type": "code",
   "execution_count": null,
   "metadata": {},
   "outputs": [],
   "source": []
  },
  {
   "cell_type": "code",
   "execution_count": 19,
   "metadata": {},
   "outputs": [
    {
     "data": {
      "text/plain": [
       "sub_region_2                                           object\n",
       "date                                                   object\n",
       "retail_and_recreation_percent_change_from_baseline    float64\n",
       "grocery_and_pharmacy_percent_change_from_baseline     float64\n",
       "parks_percent_change_from_baseline                    float64\n",
       "transit_stations_percent_change_from_baseline         float64\n",
       "workplaces_percent_change_from_baseline               float64\n",
       "residential_percent_change_from_baseline              float64\n",
       "dtype: object"
      ]
     },
     "execution_count": 19,
     "metadata": {},
     "output_type": "execute_result"
    }
   ],
   "source": [
    "#### Check data types in Melbourne data subset\n",
    "melb.dtypes"
   ]
  },
  {
   "cell_type": "code",
   "execution_count": 20,
   "metadata": {},
   "outputs": [
    {
     "data": {
      "text/html": [
       "<div>\n",
       "<style scoped>\n",
       "    .dataframe tbody tr th:only-of-type {\n",
       "        vertical-align: middle;\n",
       "    }\n",
       "\n",
       "    .dataframe tbody tr th {\n",
       "        vertical-align: top;\n",
       "    }\n",
       "\n",
       "    .dataframe thead th {\n",
       "        text-align: right;\n",
       "    }\n",
       "</style>\n",
       "<table border=\"1\" class=\"dataframe\">\n",
       "  <thead>\n",
       "    <tr style=\"text-align: right;\">\n",
       "      <th></th>\n",
       "      <th>date</th>\n",
       "    </tr>\n",
       "  </thead>\n",
       "  <tbody>\n",
       "    <tr>\n",
       "      <th>0</th>\n",
       "      <td>2020-02-15</td>\n",
       "    </tr>\n",
       "    <tr>\n",
       "      <th>1</th>\n",
       "      <td>2020-02-16</td>\n",
       "    </tr>\n",
       "    <tr>\n",
       "      <th>2</th>\n",
       "      <td>2020-02-17</td>\n",
       "    </tr>\n",
       "    <tr>\n",
       "      <th>3</th>\n",
       "      <td>2020-02-18</td>\n",
       "    </tr>\n",
       "    <tr>\n",
       "      <th>4</th>\n",
       "      <td>2020-02-19</td>\n",
       "    </tr>\n",
       "  </tbody>\n",
       "</table>\n",
       "</div>"
      ],
      "text/plain": [
       "        date\n",
       "0 2020-02-15\n",
       "1 2020-02-16\n",
       "2 2020-02-17\n",
       "3 2020-02-18\n",
       "4 2020-02-19"
      ]
     },
     "execution_count": 20,
     "metadata": {},
     "output_type": "execute_result"
    }
   ],
   "source": [
    "#### Convert date variable in Melbourne data subset to datetime type\n",
    "\n",
    "#### Convert date variable to datetime data type and then create new data frame date with this variable\n",
    "date = pd.DataFrame([pd.to_datetime(melb['date'], dayfirst = True)]).T\n",
    "date.head()"
   ]
  },
  {
   "cell_type": "code",
   "execution_count": 21,
   "metadata": {},
   "outputs": [
    {
     "data": {
      "text/plain": [
       "sub_region_2                                                  object\n",
       "datetime                                              datetime64[ns]\n",
       "retail_and_recreation_percent_change_from_baseline           float64\n",
       "grocery_and_pharmacy_percent_change_from_baseline            float64\n",
       "parks_percent_change_from_baseline                           float64\n",
       "transit_stations_percent_change_from_baseline                float64\n",
       "workplaces_percent_change_from_baseline                      float64\n",
       "residential_percent_change_from_baseline                     float64\n",
       "dtype: object"
      ]
     },
     "execution_count": 21,
     "metadata": {},
     "output_type": "execute_result"
    }
   ],
   "source": [
    "#### Add date dataframe to Melbourne data subset as column called datetime and remove original date column\n",
    "melb.insert(2,'datetime', date['date'])\n",
    "del(melb['date'])\n",
    "\n",
    "### Confirm variable data types\n",
    "melb.dtypes"
   ]
  },
  {
   "cell_type": "code",
   "execution_count": 22,
   "metadata": {},
   "outputs": [
    {
     "data": {
      "text/html": [
       "<div>\n",
       "<style scoped>\n",
       "    .dataframe tbody tr th:only-of-type {\n",
       "        vertical-align: middle;\n",
       "    }\n",
       "\n",
       "    .dataframe tbody tr th {\n",
       "        vertical-align: top;\n",
       "    }\n",
       "\n",
       "    .dataframe thead th {\n",
       "        text-align: right;\n",
       "    }\n",
       "</style>\n",
       "<table border=\"1\" class=\"dataframe\">\n",
       "  <thead>\n",
       "    <tr style=\"text-align: right;\">\n",
       "      <th></th>\n",
       "      <th>sub_region_2</th>\n",
       "      <th>datetime</th>\n",
       "      <th>retail_and_recreation_percent_change_from_baseline</th>\n",
       "      <th>grocery_and_pharmacy_percent_change_from_baseline</th>\n",
       "      <th>parks_percent_change_from_baseline</th>\n",
       "      <th>transit_stations_percent_change_from_baseline</th>\n",
       "      <th>workplaces_percent_change_from_baseline</th>\n",
       "      <th>residential_percent_change_from_baseline</th>\n",
       "    </tr>\n",
       "  </thead>\n",
       "  <tbody>\n",
       "    <tr>\n",
       "      <th>0</th>\n",
       "      <td>Banyule City</td>\n",
       "      <td>2020-02-15</td>\n",
       "      <td>13.0</td>\n",
       "      <td>6.0</td>\n",
       "      <td>-21.0</td>\n",
       "      <td>14.0</td>\n",
       "      <td>2.0</td>\n",
       "      <td>0.0</td>\n",
       "    </tr>\n",
       "    <tr>\n",
       "      <th>1</th>\n",
       "      <td>Banyule City</td>\n",
       "      <td>2020-02-16</td>\n",
       "      <td>12.0</td>\n",
       "      <td>10.0</td>\n",
       "      <td>48.0</td>\n",
       "      <td>2.0</td>\n",
       "      <td>4.0</td>\n",
       "      <td>0.0</td>\n",
       "    </tr>\n",
       "    <tr>\n",
       "      <th>2</th>\n",
       "      <td>Banyule City</td>\n",
       "      <td>2020-02-17</td>\n",
       "      <td>3.0</td>\n",
       "      <td>-3.0</td>\n",
       "      <td>20.0</td>\n",
       "      <td>21.0</td>\n",
       "      <td>20.0</td>\n",
       "      <td>-3.0</td>\n",
       "    </tr>\n",
       "    <tr>\n",
       "      <th>3</th>\n",
       "      <td>Banyule City</td>\n",
       "      <td>2020-02-18</td>\n",
       "      <td>0.0</td>\n",
       "      <td>-6.0</td>\n",
       "      <td>-21.0</td>\n",
       "      <td>8.0</td>\n",
       "      <td>16.0</td>\n",
       "      <td>0.0</td>\n",
       "    </tr>\n",
       "    <tr>\n",
       "      <th>4</th>\n",
       "      <td>Banyule City</td>\n",
       "      <td>2020-02-19</td>\n",
       "      <td>0.0</td>\n",
       "      <td>-1.0</td>\n",
       "      <td>-9.0</td>\n",
       "      <td>11.0</td>\n",
       "      <td>15.0</td>\n",
       "      <td>-1.0</td>\n",
       "    </tr>\n",
       "  </tbody>\n",
       "</table>\n",
       "</div>"
      ],
      "text/plain": [
       "   sub_region_2   datetime  \\\n",
       "0  Banyule City 2020-02-15   \n",
       "1  Banyule City 2020-02-16   \n",
       "2  Banyule City 2020-02-17   \n",
       "3  Banyule City 2020-02-18   \n",
       "4  Banyule City 2020-02-19   \n",
       "\n",
       "   retail_and_recreation_percent_change_from_baseline  \\\n",
       "0                                               13.0    \n",
       "1                                               12.0    \n",
       "2                                                3.0    \n",
       "3                                                0.0    \n",
       "4                                                0.0    \n",
       "\n",
       "   grocery_and_pharmacy_percent_change_from_baseline  \\\n",
       "0                                                6.0   \n",
       "1                                               10.0   \n",
       "2                                               -3.0   \n",
       "3                                               -6.0   \n",
       "4                                               -1.0   \n",
       "\n",
       "   parks_percent_change_from_baseline  \\\n",
       "0                               -21.0   \n",
       "1                                48.0   \n",
       "2                                20.0   \n",
       "3                               -21.0   \n",
       "4                                -9.0   \n",
       "\n",
       "   transit_stations_percent_change_from_baseline  \\\n",
       "0                                           14.0   \n",
       "1                                            2.0   \n",
       "2                                           21.0   \n",
       "3                                            8.0   \n",
       "4                                           11.0   \n",
       "\n",
       "   workplaces_percent_change_from_baseline  \\\n",
       "0                                      2.0   \n",
       "1                                      4.0   \n",
       "2                                     20.0   \n",
       "3                                     16.0   \n",
       "4                                     15.0   \n",
       "\n",
       "   residential_percent_change_from_baseline  \n",
       "0                                       0.0  \n",
       "1                                       0.0  \n",
       "2                                      -3.0  \n",
       "3                                       0.0  \n",
       "4                                      -1.0  "
      ]
     },
     "execution_count": 22,
     "metadata": {},
     "output_type": "execute_result"
    }
   ],
   "source": [
    "### View final Melbourne data subset\n",
    "melb.head()"
   ]
  },
  {
   "cell_type": "code",
   "execution_count": null,
   "metadata": {},
   "outputs": [],
   "source": []
  },
  {
   "cell_type": "code",
   "execution_count": 23,
   "metadata": {},
   "outputs": [],
   "source": [
    "### Create Database"
   ]
  },
  {
   "cell_type": "code",
   "execution_count": 24,
   "metadata": {},
   "outputs": [],
   "source": [
    "### Connect to MongoDB server\n",
    "client = MongoClient('ec2-54-163-49-32.compute-1.amazonaws.com',\n",
    " 443,\n",
    " username = 'diana',\n",
    " password = 'diana')"
   ]
  },
  {
   "cell_type": "code",
   "execution_count": 25,
   "metadata": {},
   "outputs": [
    {
     "data": {
      "text/plain": [
       "{'version': '4.4.3',\n",
       " 'gitVersion': '913d6b62acfbb344dde1b116f4161360acd8fd13',\n",
       " 'modules': [],\n",
       " 'allocator': 'tcmalloc',\n",
       " 'javascriptEngine': 'mozjs',\n",
       " 'sysInfo': 'deprecated',\n",
       " 'versionArray': [4, 4, 3, 0],\n",
       " 'openssl': {'running': 'OpenSSL 1.1.1f  31 Mar 2020',\n",
       "  'compiled': 'OpenSSL 1.1.1f  31 Mar 2020'},\n",
       " 'buildEnvironment': {'distmod': 'ubuntu2004',\n",
       "  'distarch': 'x86_64',\n",
       "  'cc': '/opt/mongodbtoolchain/v3/bin/gcc: gcc (GCC) 8.2.0',\n",
       "  'ccflags': '-fno-omit-frame-pointer -fno-strict-aliasing -fasynchronous-unwind-tables -ggdb -pthread -Wall -Wsign-compare -Wno-unknown-pragmas -Winvalid-pch -Werror -O2 -Wno-unused-local-typedefs -Wno-unused-function -Wno-deprecated-declarations -Wno-unused-const-variable -Wno-unused-but-set-variable -Wno-missing-braces -fstack-protector-strong -fno-builtin-memcmp',\n",
       "  'cxx': '/opt/mongodbtoolchain/v3/bin/g++: g++ (GCC) 8.2.0',\n",
       "  'cxxflags': '-Woverloaded-virtual -Wno-maybe-uninitialized -fsized-deallocation -std=c++17',\n",
       "  'linkflags': '-pthread -Wl,-z,now -rdynamic -Wl,--fatal-warnings -fstack-protector-strong -fuse-ld=gold -Wl,--no-threads -Wl,--build-id -Wl,--hash-style=gnu -Wl,-z,noexecstack -Wl,--warn-execstack -Wl,-z,relro -Wl,-z,origin -Wl,--enable-new-dtags',\n",
       "  'target_arch': 'x86_64',\n",
       "  'target_os': 'linux',\n",
       "  'cppdefines': 'SAFEINT_USE_INTRINSICS 0 PCRE_STATIC NDEBUG _XOPEN_SOURCE 700 _GNU_SOURCE _FORTIFY_SOURCE 2 BOOST_THREAD_VERSION 5 BOOST_THREAD_USES_DATETIME BOOST_SYSTEM_NO_DEPRECATED BOOST_MATH_NO_LONG_DOUBLE_MATH_FUNCTIONS BOOST_ENABLE_ASSERT_DEBUG_HANDLER BOOST_LOG_NO_SHORTHAND_NAMES BOOST_LOG_USE_NATIVE_SYSLOG BOOST_LOG_WITHOUT_THREAD_ATTR ABSL_FORCE_ALIGNED_ACCESS'},\n",
       " 'bits': 64,\n",
       " 'debug': False,\n",
       " 'maxBsonObjectSize': 16777216,\n",
       " 'storageEngines': ['biggie', 'devnull', 'ephemeralForTest', 'wiredTiger'],\n",
       " 'ok': 1.0}"
      ]
     },
     "execution_count": 25,
     "metadata": {},
     "output_type": "execute_result"
    }
   ],
   "source": [
    "client.server_info()"
   ]
  },
  {
   "cell_type": "code",
   "execution_count": 26,
   "metadata": {},
   "outputs": [
    {
     "data": {
      "text/plain": [
       "['admin', 'config', 'local']"
      ]
     },
     "execution_count": 26,
     "metadata": {},
     "output_type": "execute_result"
    }
   ],
   "source": [
    "client.list_database_names()"
   ]
  },
  {
   "cell_type": "code",
   "execution_count": 27,
   "metadata": {},
   "outputs": [],
   "source": [
    "###Create database melbcovid for Melbourne Covid Mobility Data\n",
    "database = client.melb_covid"
   ]
  },
  {
   "cell_type": "code",
   "execution_count": 28,
   "metadata": {},
   "outputs": [],
   "source": [
    "### Create individual collections for each category of mobility data in database\n",
    "retail_coll = database['retail_and_recreation']\n",
    "grocery_coll = database['grocery_and_pharmacy']\n",
    "parks_coll = database['parks']\n",
    "transit_coll = database['transit_stations']\n",
    "work_coll = database['workplaces']\n",
    "home_coll = database['residential']"
   ]
  },
  {
   "cell_type": "code",
   "execution_count": 29,
   "metadata": {},
   "outputs": [],
   "source": [
    "### Create data subsets for each mobility category, remove missing values, convert to dictionary then list \n",
    "### to load into MongoDB\n",
    "### Retail and Recreation\n",
    "retail = melb.iloc[:, :3]\n",
    "retail.dropna()\n",
    "retail = retail.to_dict('records')\n",
    "retail = list(retail)"
   ]
  },
  {
   "cell_type": "code",
   "execution_count": 30,
   "metadata": {},
   "outputs": [],
   "source": [
    "### Grocery and Pharmacy\n",
    "grocery = pd.concat([melb.iloc[:,:2],melb.iloc[:,3]], axis = 1)\n",
    "grocery.dropna()\n",
    "grocery = grocery.to_dict('records')\n",
    "grocery = list(grocery)"
   ]
  },
  {
   "cell_type": "code",
   "execution_count": 31,
   "metadata": {},
   "outputs": [],
   "source": [
    "### Parks\n",
    "park = pd.concat([melb.iloc[:,:2],melb.iloc[:,4]], axis = 1)\n",
    "park.dropna()\n",
    "park = park.to_dict('records')\n",
    "park = list(park)"
   ]
  },
  {
   "cell_type": "code",
   "execution_count": 32,
   "metadata": {},
   "outputs": [],
   "source": [
    "### Transit stations\n",
    "transit = pd.concat([melb.iloc[:,:2],melb.iloc[:,5]], axis = 1)\n",
    "transit.dropna()\n",
    "transit = transit.to_dict('records')\n",
    "transit = list(transit)"
   ]
  },
  {
   "cell_type": "code",
   "execution_count": 33,
   "metadata": {},
   "outputs": [],
   "source": [
    "### Workplaces\n",
    "workplace = pd.concat([melb.iloc[:,:2],melb.iloc[:,6]], axis = 1)\n",
    "workplace.dropna()\n",
    "workplace = workplace.to_dict('records')\n",
    "workplace = list(workplace)"
   ]
  },
  {
   "cell_type": "code",
   "execution_count": 34,
   "metadata": {},
   "outputs": [],
   "source": [
    "### Residential\n",
    "residential = pd.concat([melb.iloc[:,:2],melb.iloc[:,7]], axis = 1)\n",
    "residential.dropna()\n",
    "residential = residential.to_dict('records')\n",
    "residential = list(residential)"
   ]
  },
  {
   "cell_type": "code",
   "execution_count": null,
   "metadata": {},
   "outputs": [],
   "source": []
  },
  {
   "cell_type": "code",
   "execution_count": 35,
   "metadata": {},
   "outputs": [
    {
     "data": {
      "text/plain": [
       "<pymongo.results.InsertManyResult at 0x116065808>"
      ]
     },
     "execution_count": 35,
     "metadata": {},
     "output_type": "execute_result"
    }
   ],
   "source": [
    "### Insert category lists into collections in database\n",
    "### Retail\n",
    "retail_coll.insert_many(retail)"
   ]
  },
  {
   "cell_type": "code",
   "execution_count": 36,
   "metadata": {},
   "outputs": [
    {
     "data": {
      "text/plain": [
       "<pymongo.results.InsertManyResult at 0x11647a808>"
      ]
     },
     "execution_count": 36,
     "metadata": {},
     "output_type": "execute_result"
    }
   ],
   "source": [
    "### Grocery\n",
    "grocery_coll.insert_many(grocery)"
   ]
  },
  {
   "cell_type": "code",
   "execution_count": 37,
   "metadata": {},
   "outputs": [
    {
     "data": {
      "text/plain": [
       "<pymongo.results.InsertManyResult at 0x1144ed908>"
      ]
     },
     "execution_count": 37,
     "metadata": {},
     "output_type": "execute_result"
    }
   ],
   "source": [
    "### Parks\n",
    "parks_coll.insert_many(park)"
   ]
  },
  {
   "cell_type": "code",
   "execution_count": 38,
   "metadata": {},
   "outputs": [
    {
     "data": {
      "text/plain": [
       "<pymongo.results.InsertManyResult at 0x11693f9c8>"
      ]
     },
     "execution_count": 38,
     "metadata": {},
     "output_type": "execute_result"
    }
   ],
   "source": [
    "###Transit stations\n",
    "transit_coll.insert_many(transit)"
   ]
  },
  {
   "cell_type": "code",
   "execution_count": 39,
   "metadata": {},
   "outputs": [
    {
     "data": {
      "text/plain": [
       "<pymongo.results.InsertManyResult at 0x116c21ac8>"
      ]
     },
     "execution_count": 39,
     "metadata": {},
     "output_type": "execute_result"
    }
   ],
   "source": [
    "###Workplaces\n",
    "work_coll.insert_many(workplace)"
   ]
  },
  {
   "cell_type": "code",
   "execution_count": 40,
   "metadata": {},
   "outputs": [
    {
     "data": {
      "text/plain": [
       "<pymongo.results.InsertManyResult at 0x116ef1c08>"
      ]
     },
     "execution_count": 40,
     "metadata": {},
     "output_type": "execute_result"
    }
   ],
   "source": [
    "###Residential\n",
    "home_coll.insert_many(residential)"
   ]
  },
  {
   "cell_type": "code",
   "execution_count": 41,
   "metadata": {},
   "outputs": [
    {
     "data": {
      "text/plain": [
       "['admin', 'config', 'local', 'melb_covid']"
      ]
     },
     "execution_count": 41,
     "metadata": {},
     "output_type": "execute_result"
    }
   ],
   "source": [
    "client.list_database_names()"
   ]
  },
  {
   "cell_type": "code",
   "execution_count": null,
   "metadata": {},
   "outputs": [],
   "source": []
  },
  {
   "cell_type": "code",
   "execution_count": null,
   "metadata": {},
   "outputs": [],
   "source": []
  },
  {
   "cell_type": "code",
   "execution_count": 42,
   "metadata": {},
   "outputs": [],
   "source": [
    "#### PART 3 - DATA ANALYSIS MELBOURNE COVID MOBILITY DATA SET"
   ]
  },
  {
   "cell_type": "code",
   "execution_count": 43,
   "metadata": {},
   "outputs": [],
   "source": [
    "### Data is divided in two parts up till the 30th June 2020 and after 1st July 2020\n",
    "### Summary statistics explored and data is plotted"
   ]
  },
  {
   "cell_type": "code",
   "execution_count": 44,
   "metadata": {},
   "outputs": [],
   "source": [
    "%matplotlib inline\n",
    "import matplotlib.pyplot as plt\n",
    "import matplotlib as mpl\n",
    "\n",
    "import seaborn as sns\n",
    "sns.set()\n",
    "from datetime import datetime\n",
    "import matplotlib.dates as mdates\n",
    "from matplotlib.dates import DateFormatter"
   ]
  },
  {
   "cell_type": "code",
   "execution_count": null,
   "metadata": {},
   "outputs": [],
   "source": []
  },
  {
   "cell_type": "code",
   "execution_count": 45,
   "metadata": {},
   "outputs": [
    {
     "data": {
      "text/html": [
       "<div>\n",
       "<style scoped>\n",
       "    .dataframe tbody tr th:only-of-type {\n",
       "        vertical-align: middle;\n",
       "    }\n",
       "\n",
       "    .dataframe tbody tr th {\n",
       "        vertical-align: top;\n",
       "    }\n",
       "\n",
       "    .dataframe thead th {\n",
       "        text-align: right;\n",
       "    }\n",
       "</style>\n",
       "<table border=\"1\" class=\"dataframe\">\n",
       "  <thead>\n",
       "    <tr style=\"text-align: right;\">\n",
       "      <th></th>\n",
       "      <th>_id</th>\n",
       "      <th>datetime</th>\n",
       "      <th>retail_and_recreation_percent_change_from_baseline</th>\n",
       "      <th>sub_region_2</th>\n",
       "    </tr>\n",
       "  </thead>\n",
       "  <tbody>\n",
       "    <tr>\n",
       "      <th>0</th>\n",
       "      <td>5ffffd837bce0de2f44c6d54</td>\n",
       "      <td>2020-02-15</td>\n",
       "      <td>13.0</td>\n",
       "      <td>Banyule City</td>\n",
       "    </tr>\n",
       "    <tr>\n",
       "      <th>1</th>\n",
       "      <td>5ffffd837bce0de2f44c6e74</td>\n",
       "      <td>2020-02-15</td>\n",
       "      <td>4.0</td>\n",
       "      <td>Bayside City</td>\n",
       "    </tr>\n",
       "    <tr>\n",
       "      <th>2</th>\n",
       "      <td>5ffffd837bce0de2f44c6f91</td>\n",
       "      <td>2020-02-15</td>\n",
       "      <td>7.0</td>\n",
       "      <td>Brimbank City</td>\n",
       "    </tr>\n",
       "    <tr>\n",
       "      <th>3</th>\n",
       "      <td>5ffffd837bce0de2f44c70b4</td>\n",
       "      <td>2020-02-15</td>\n",
       "      <td>9.0</td>\n",
       "      <td>Cardinia Shire</td>\n",
       "    </tr>\n",
       "    <tr>\n",
       "      <th>4</th>\n",
       "      <td>5ffffd837bce0de2f44c71d7</td>\n",
       "      <td>2020-02-15</td>\n",
       "      <td>6.0</td>\n",
       "      <td>City of Casey</td>\n",
       "    </tr>\n",
       "  </tbody>\n",
       "</table>\n",
       "</div>"
      ],
      "text/plain": [
       "                        _id   datetime  \\\n",
       "0  5ffffd837bce0de2f44c6d54 2020-02-15   \n",
       "1  5ffffd837bce0de2f44c6e74 2020-02-15   \n",
       "2  5ffffd837bce0de2f44c6f91 2020-02-15   \n",
       "3  5ffffd837bce0de2f44c70b4 2020-02-15   \n",
       "4  5ffffd837bce0de2f44c71d7 2020-02-15   \n",
       "\n",
       "   retail_and_recreation_percent_change_from_baseline    sub_region_2  \n",
       "0                                               13.0     Banyule City  \n",
       "1                                                4.0     Bayside City  \n",
       "2                                                7.0    Brimbank City  \n",
       "3                                                9.0   Cardinia Shire  \n",
       "4                                                6.0    City of Casey  "
      ]
     },
     "execution_count": 45,
     "metadata": {},
     "output_type": "execute_result"
    }
   ],
   "source": [
    "### 1. RETAIL AND RECREATION\n",
    "###Retail and Recreation data 15/2/20-30/6/20\n",
    "date_1 = datetime(2020,7,1)\n",
    "query = {\"datetime\": {\"$lt\": date_1}}\n",
    "retail_sub_1 = pd.DataFrame(list(retail_coll.find(query).sort(\"datetime\")))\n",
    "retail_sub_1.head()"
   ]
  },
  {
   "cell_type": "code",
   "execution_count": 46,
   "metadata": {
    "scrolled": false
   },
   "outputs": [
    {
     "data": {
      "text/html": [
       "<div>\n",
       "<style scoped>\n",
       "    .dataframe tbody tr th:only-of-type {\n",
       "        vertical-align: middle;\n",
       "    }\n",
       "\n",
       "    .dataframe tbody tr th {\n",
       "        vertical-align: top;\n",
       "    }\n",
       "\n",
       "    .dataframe thead th {\n",
       "        text-align: right;\n",
       "    }\n",
       "</style>\n",
       "<table border=\"1\" class=\"dataframe\">\n",
       "  <thead>\n",
       "    <tr style=\"text-align: right;\">\n",
       "      <th></th>\n",
       "      <th>_id</th>\n",
       "      <th>datetime</th>\n",
       "      <th>retail_and_recreation_percent_change_from_baseline</th>\n",
       "      <th>sub_region_2</th>\n",
       "    </tr>\n",
       "  </thead>\n",
       "  <tbody>\n",
       "    <tr>\n",
       "      <th>0</th>\n",
       "      <td>5ffffd837bce0de2f44c6ddd</td>\n",
       "      <td>2020-07-01</td>\n",
       "      <td>-9.0</td>\n",
       "      <td>Banyule City</td>\n",
       "    </tr>\n",
       "    <tr>\n",
       "      <th>1</th>\n",
       "      <td>5ffffd837bce0de2f44c6efd</td>\n",
       "      <td>2020-07-01</td>\n",
       "      <td>-10.0</td>\n",
       "      <td>Bayside City</td>\n",
       "    </tr>\n",
       "    <tr>\n",
       "      <th>2</th>\n",
       "      <td>5ffffd837bce0de2f44c701a</td>\n",
       "      <td>2020-07-01</td>\n",
       "      <td>-18.0</td>\n",
       "      <td>Brimbank City</td>\n",
       "    </tr>\n",
       "    <tr>\n",
       "      <th>3</th>\n",
       "      <td>5ffffd837bce0de2f44c713d</td>\n",
       "      <td>2020-07-01</td>\n",
       "      <td>-13.0</td>\n",
       "      <td>Cardinia Shire</td>\n",
       "    </tr>\n",
       "    <tr>\n",
       "      <th>4</th>\n",
       "      <td>5ffffd837bce0de2f44c7260</td>\n",
       "      <td>2020-07-01</td>\n",
       "      <td>-14.0</td>\n",
       "      <td>City of Casey</td>\n",
       "    </tr>\n",
       "  </tbody>\n",
       "</table>\n",
       "</div>"
      ],
      "text/plain": [
       "                        _id   datetime  \\\n",
       "0  5ffffd837bce0de2f44c6ddd 2020-07-01   \n",
       "1  5ffffd837bce0de2f44c6efd 2020-07-01   \n",
       "2  5ffffd837bce0de2f44c701a 2020-07-01   \n",
       "3  5ffffd837bce0de2f44c713d 2020-07-01   \n",
       "4  5ffffd837bce0de2f44c7260 2020-07-01   \n",
       "\n",
       "   retail_and_recreation_percent_change_from_baseline    sub_region_2  \n",
       "0                                               -9.0     Banyule City  \n",
       "1                                              -10.0     Bayside City  \n",
       "2                                              -18.0    Brimbank City  \n",
       "3                                              -13.0   Cardinia Shire  \n",
       "4                                              -14.0    City of Casey  "
      ]
     },
     "execution_count": 46,
     "metadata": {},
     "output_type": "execute_result"
    }
   ],
   "source": [
    "### Retail and recreation data 1/7/20-30/11/20\n",
    "date_3 = datetime(2020,6,30)\n",
    "query = {\"datetime\": {\"$gt\": date_3}}\n",
    "retail_sub_2 = pd.DataFrame(list(retail_coll.find(query).sort(\"datetime\")))\n",
    "retail_sub_2.head()"
   ]
  },
  {
   "cell_type": "code",
   "execution_count": 47,
   "metadata": {},
   "outputs": [
    {
     "data": {
      "text/plain": [
       "count    137.000000\n",
       "mean     -23.222141\n",
       "std       17.303880\n",
       "min      -78.833333\n",
       "25%      -37.800000\n",
       "50%      -22.733333\n",
       "75%      -11.366667\n",
       "max        8.466667\n",
       "Name: retail_and_recreation_percent_change_from_baseline, dtype: float64"
      ]
     },
     "execution_count": 47,
     "metadata": {},
     "output_type": "execute_result"
    }
   ],
   "source": [
    "### Calculate avergage % change in movement for Melbourne as a whole daily and calculate statistics\n",
    "retail_1 = retail_sub_1.groupby('datetime')['retail_and_recreation_percent_change_from_baseline'].mean()\n",
    "retail_1.describe()"
   ]
  },
  {
   "cell_type": "code",
   "execution_count": 48,
   "metadata": {},
   "outputs": [
    {
     "data": {
      "text/plain": [
       "count    154.000000\n",
       "mean     -38.829111\n",
       "std       16.345696\n",
       "min      -65.321429\n",
       "25%      -52.000000\n",
       "50%      -43.300000\n",
       "75%      -23.291667\n",
       "max       -0.766667\n",
       "Name: retail_and_recreation_percent_change_from_baseline, dtype: float64"
      ]
     },
     "execution_count": 48,
     "metadata": {},
     "output_type": "execute_result"
    }
   ],
   "source": [
    "retail_2 = retail_sub_2.groupby('datetime')['retail_and_recreation_percent_change_from_baseline'].mean()\n",
    "retail_2.describe()"
   ]
  },
  {
   "cell_type": "code",
   "execution_count": null,
   "metadata": {},
   "outputs": [],
   "source": []
  },
  {
   "cell_type": "code",
   "execution_count": 50,
   "metadata": {},
   "outputs": [
    {
     "data": {
      "text/plain": [
       "<function matplotlib.pyplot.show(*args, **kw)>"
      ]
     },
     "execution_count": 50,
     "metadata": {},
     "output_type": "execute_result"
    },
    {
     "data": {
      "image/png": "[encoded data removed]",
      "text/plain": [
       "<Figure size 576x360 with 1 Axes>"
      ]
     },
     "metadata": {
      "needs_background": "light"
     },
     "output_type": "display_data"
    }
   ],
   "source": [
    "### Plot Retail and Recreation\n",
    "### 15/2/20-30/6/20\n",
    "\n",
    "fig, ax = plt.subplots(figsize=(8,5))\n",
    "\n",
    "sns.lineplot(x = 'datetime', y = 'retail_and_recreation_percent_change_from_baseline', data=retail_sub_1, \n",
    "             color = 'purple')\n",
    "plt.xticks(rotation=90)\n",
    "plt.xlabel('Date')\n",
    "plt.ylabel('Percent change')\n",
    "plt.ylim([-95,60])\n",
    "plt.title('Percent change Retail and Recreation 15/2/20-30/6/20')\n",
    "ax.xaxis.set_major_locator(mdates.MonthLocator())\n",
    "ax.xaxis.set_major_formatter(mdates.DateFormatter('%b %y'))\n",
    "\n",
    "plt.show"
   ]
  },
  {
   "cell_type": "code",
   "execution_count": 51,
   "metadata": {
    "scrolled": true
   },
   "outputs": [
    {
     "data": {
      "text/plain": [
       "<function matplotlib.pyplot.show(*args, **kw)>"
      ]
     },
     "execution_count": 51,
     "metadata": {},
     "output_type": "execute_result"
    },
    {
     "data": {
      "image/png": "[encoded data removed]",
      "text/plain": [
       "<Figure size 576x360 with 1 Axes>"
      ]
     },
     "metadata": {
      "needs_background": "light"
     },
     "output_type": "display_data"
    }
   ],
   "source": [
    "### Plot Retail and Recreation\n",
    "### 1/7/20-1/12/20\n",
    "\n",
    "fig, ax = plt.subplots(figsize=(8,5))\n",
    "\n",
    "sns.lineplot(x = 'datetime', y = 'retail_and_recreation_percent_change_from_baseline', data=retail_sub_2, \n",
    "             color = 'blue')\n",
    "plt.xticks(rotation=90)\n",
    "plt.xlabel('Date')\n",
    "plt.ylabel('Percent change')\n",
    "plt.ylim([-95,60])\n",
    "plt.title('Percent change Retail and Recreation 1/7/20-1/12/20')\n",
    "ax.xaxis.set_major_locator(mdates.MonthLocator())\n",
    "ax.xaxis.set_major_formatter(mdates.DateFormatter('%b %y'))\n",
    "\n",
    "plt.show"
   ]
  },
  {
   "cell_type": "code",
   "execution_count": null,
   "metadata": {},
   "outputs": [],
   "source": []
  },
  {
   "cell_type": "code",
   "execution_count": 53,
   "metadata": {},
   "outputs": [
    {
     "data": {
      "text/html": [
       "<div>\n",
       "<style scoped>\n",
       "    .dataframe tbody tr th:only-of-type {\n",
       "        vertical-align: middle;\n",
       "    }\n",
       "\n",
       "    .dataframe tbody tr th {\n",
       "        vertical-align: top;\n",
       "    }\n",
       "\n",
       "    .dataframe thead th {\n",
       "        text-align: right;\n",
       "    }\n",
       "</style>\n",
       "<table border=\"1\" class=\"dataframe\">\n",
       "  <thead>\n",
       "    <tr style=\"text-align: right;\">\n",
       "      <th></th>\n",
       "      <th>_id</th>\n",
       "      <th>datetime</th>\n",
       "      <th>grocery_and_pharmacy_percent_change_from_baseline</th>\n",
       "      <th>sub_region_2</th>\n",
       "    </tr>\n",
       "  </thead>\n",
       "  <tbody>\n",
       "    <tr>\n",
       "      <th>0</th>\n",
       "      <td>5ffffd8c7bce0de2f44c8f58</td>\n",
       "      <td>2020-02-15</td>\n",
       "      <td>6.0</td>\n",
       "      <td>Banyule City</td>\n",
       "    </tr>\n",
       "    <tr>\n",
       "      <th>1</th>\n",
       "      <td>5ffffd8c7bce0de2f44c9078</td>\n",
       "      <td>2020-02-15</td>\n",
       "      <td>8.0</td>\n",
       "      <td>Bayside City</td>\n",
       "    </tr>\n",
       "    <tr>\n",
       "      <th>2</th>\n",
       "      <td>5ffffd8c7bce0de2f44c9195</td>\n",
       "      <td>2020-02-15</td>\n",
       "      <td>8.0</td>\n",
       "      <td>Brimbank City</td>\n",
       "    </tr>\n",
       "    <tr>\n",
       "      <th>3</th>\n",
       "      <td>5ffffd8c7bce0de2f44c92b8</td>\n",
       "      <td>2020-02-15</td>\n",
       "      <td>0.0</td>\n",
       "      <td>Cardinia Shire</td>\n",
       "    </tr>\n",
       "    <tr>\n",
       "      <th>4</th>\n",
       "      <td>5ffffd8c7bce0de2f44c93db</td>\n",
       "      <td>2020-02-15</td>\n",
       "      <td>10.0</td>\n",
       "      <td>City of Casey</td>\n",
       "    </tr>\n",
       "  </tbody>\n",
       "</table>\n",
       "</div>"
      ],
      "text/plain": [
       "                        _id   datetime  \\\n",
       "0  5ffffd8c7bce0de2f44c8f58 2020-02-15   \n",
       "1  5ffffd8c7bce0de2f44c9078 2020-02-15   \n",
       "2  5ffffd8c7bce0de2f44c9195 2020-02-15   \n",
       "3  5ffffd8c7bce0de2f44c92b8 2020-02-15   \n",
       "4  5ffffd8c7bce0de2f44c93db 2020-02-15   \n",
       "\n",
       "   grocery_and_pharmacy_percent_change_from_baseline    sub_region_2  \n",
       "0                                                6.0    Banyule City  \n",
       "1                                                8.0    Bayside City  \n",
       "2                                                8.0   Brimbank City  \n",
       "3                                                0.0  Cardinia Shire  \n",
       "4                                               10.0   City of Casey  "
      ]
     },
     "execution_count": 53,
     "metadata": {},
     "output_type": "execute_result"
    }
   ],
   "source": [
    "###2 - GROCERY AND PHARMACY\n",
    "###Grocery and Pharmacy data 15/2/20-30/6/20\n",
    "date_1 = datetime(2020,7,1)\n",
    "query = {\"datetime\": {\"$lt\": date_1}}\n",
    "grocery_sub_1 = pd.DataFrame(list(grocery_coll.find(query).sort(\"datetime\")))\n",
    "grocery_sub_1.head()"
   ]
  },
  {
   "cell_type": "code",
   "execution_count": 54,
   "metadata": {},
   "outputs": [
    {
     "data": {
      "text/html": [
       "<div>\n",
       "<style scoped>\n",
       "    .dataframe tbody tr th:only-of-type {\n",
       "        vertical-align: middle;\n",
       "    }\n",
       "\n",
       "    .dataframe tbody tr th {\n",
       "        vertical-align: top;\n",
       "    }\n",
       "\n",
       "    .dataframe thead th {\n",
       "        text-align: right;\n",
       "    }\n",
       "</style>\n",
       "<table border=\"1\" class=\"dataframe\">\n",
       "  <thead>\n",
       "    <tr style=\"text-align: right;\">\n",
       "      <th></th>\n",
       "      <th>_id</th>\n",
       "      <th>datetime</th>\n",
       "      <th>grocery_and_pharmacy_percent_change_from_baseline</th>\n",
       "      <th>sub_region_2</th>\n",
       "    </tr>\n",
       "  </thead>\n",
       "  <tbody>\n",
       "    <tr>\n",
       "      <th>0</th>\n",
       "      <td>5ffffd8c7bce0de2f44c8fe1</td>\n",
       "      <td>2020-07-01</td>\n",
       "      <td>-2.0</td>\n",
       "      <td>Banyule City</td>\n",
       "    </tr>\n",
       "    <tr>\n",
       "      <th>1</th>\n",
       "      <td>5ffffd8c7bce0de2f44c9101</td>\n",
       "      <td>2020-07-01</td>\n",
       "      <td>1.0</td>\n",
       "      <td>Bayside City</td>\n",
       "    </tr>\n",
       "    <tr>\n",
       "      <th>2</th>\n",
       "      <td>5ffffd8c7bce0de2f44c921e</td>\n",
       "      <td>2020-07-01</td>\n",
       "      <td>6.0</td>\n",
       "      <td>Brimbank City</td>\n",
       "    </tr>\n",
       "    <tr>\n",
       "      <th>3</th>\n",
       "      <td>5ffffd8c7bce0de2f44c9341</td>\n",
       "      <td>2020-07-01</td>\n",
       "      <td>1.0</td>\n",
       "      <td>Cardinia Shire</td>\n",
       "    </tr>\n",
       "    <tr>\n",
       "      <th>4</th>\n",
       "      <td>5ffffd8c7bce0de2f44c9464</td>\n",
       "      <td>2020-07-01</td>\n",
       "      <td>-7.0</td>\n",
       "      <td>City of Casey</td>\n",
       "    </tr>\n",
       "  </tbody>\n",
       "</table>\n",
       "</div>"
      ],
      "text/plain": [
       "                        _id   datetime  \\\n",
       "0  5ffffd8c7bce0de2f44c8fe1 2020-07-01   \n",
       "1  5ffffd8c7bce0de2f44c9101 2020-07-01   \n",
       "2  5ffffd8c7bce0de2f44c921e 2020-07-01   \n",
       "3  5ffffd8c7bce0de2f44c9341 2020-07-01   \n",
       "4  5ffffd8c7bce0de2f44c9464 2020-07-01   \n",
       "\n",
       "   grocery_and_pharmacy_percent_change_from_baseline    sub_region_2  \n",
       "0                                               -2.0    Banyule City  \n",
       "1                                                1.0    Bayside City  \n",
       "2                                                6.0   Brimbank City  \n",
       "3                                                1.0  Cardinia Shire  \n",
       "4                                               -7.0   City of Casey  "
      ]
     },
     "execution_count": 54,
     "metadata": {},
     "output_type": "execute_result"
    }
   ],
   "source": [
    "### Grocery and Pharmacy data 1/7/20-30/11/20\n",
    "date_2 = datetime(2020,6,30)\n",
    "query = {\"datetime\": {\"$gt\": date_2}}\n",
    "grocery_sub_2 = pd.DataFrame(list(grocery_coll.find(query).sort(\"datetime\")))\n",
    "grocery_sub_2.head()"
   ]
  },
  {
   "cell_type": "code",
   "execution_count": 55,
   "metadata": {},
   "outputs": [
    {
     "data": {
      "text/plain": [
       "count    137.000000\n",
       "mean       1.058084\n",
       "std       14.458385\n",
       "min      -75.275862\n",
       "25%       -6.448276\n",
       "50%        0.733333\n",
       "75%        8.266667\n",
       "max       48.896552\n",
       "Name: grocery_and_pharmacy_percent_change_from_baseline, dtype: float64"
      ]
     },
     "execution_count": 55,
     "metadata": {},
     "output_type": "execute_result"
    }
   ],
   "source": [
    "grocery_1 = grocery_sub_1.groupby('datetime')['grocery_and_pharmacy_percent_change_from_baseline'].mean()\n",
    "grocery_1.describe()"
   ]
  },
  {
   "cell_type": "code",
   "execution_count": 56,
   "metadata": {},
   "outputs": [
    {
     "data": {
      "text/plain": [
       "count    154.000000\n",
       "mean      -8.260469\n",
       "std       10.771833\n",
       "min      -30.620690\n",
       "25%      -16.753161\n",
       "50%       -8.068391\n",
       "75%        0.816667\n",
       "max       13.827586\n",
       "Name: grocery_and_pharmacy_percent_change_from_baseline, dtype: float64"
      ]
     },
     "execution_count": 56,
     "metadata": {},
     "output_type": "execute_result"
    }
   ],
   "source": [
    "grocery_2 = grocery_sub_2.groupby('datetime')['grocery_and_pharmacy_percent_change_from_baseline'].mean()\n",
    "grocery_2.describe()"
   ]
  },
  {
   "cell_type": "code",
   "execution_count": null,
   "metadata": {},
   "outputs": [],
   "source": []
  },
  {
   "cell_type": "code",
   "execution_count": 57,
   "metadata": {
    "scrolled": false
   },
   "outputs": [
    {
     "data": {
      "text/plain": [
       "<function matplotlib.pyplot.show(*args, **kw)>"
      ]
     },
     "execution_count": 57,
     "metadata": {},
     "output_type": "execute_result"
    },
    {
     "data": {
      "image/png": "[encoded data removed]",
      "text/plain": [
       "<Figure size 576x360 with 1 Axes>"
      ]
     },
     "metadata": {
      "needs_background": "light"
     },
     "output_type": "display_data"
    }
   ],
   "source": [
    "### Plot Grocery and Pharmacy\n",
    "### 15/2/20-30/6/20\n",
    "\n",
    "fig, ax = plt.subplots(figsize=(8,5))\n",
    "\n",
    "sns.lineplot(x = 'datetime', y = 'grocery_and_pharmacy_percent_change_from_baseline', data=grocery_sub_1, \n",
    "             color = 'purple')\n",
    "plt.xticks(rotation=90)\n",
    "plt.xlabel('Date')\n",
    "plt.ylabel('Percent change')\n",
    "plt.ylim([-95,60])\n",
    "plt.title('Percent change Grocery and Pharmacy 15/2/20-30/6/20')\n",
    "ax.xaxis.set_major_locator(mdates.MonthLocator())\n",
    "ax.xaxis.set_major_formatter(mdates.DateFormatter('%b %y'))\n",
    "\n",
    "plt.show"
   ]
  },
  {
   "cell_type": "code",
   "execution_count": 58,
   "metadata": {
    "scrolled": true
   },
   "outputs": [
    {
     "data": {
      "text/plain": [
       "<function matplotlib.pyplot.show(*args, **kw)>"
      ]
     },
     "execution_count": 58,
     "metadata": {},
     "output_type": "execute_result"
    },
    {
     "data": {
      "image/png": "[encoded data removed]",
      "text/plain": [
       "<Figure size 576x360 with 1 Axes>"
      ]
     },
     "metadata": {
      "needs_background": "light"
     },
     "output_type": "display_data"
    }
   ],
   "source": [
    "### Plot Grocery and Pharmacy\n",
    "### 1/7/20-1/12/20\n",
    "\n",
    "fig, ax = plt.subplots(figsize=(8,5))\n",
    "\n",
    "sns.lineplot(x = 'datetime', y = 'grocery_and_pharmacy_percent_change_from_baseline', data=grocery_sub_2, \n",
    "             color = 'blue')\n",
    "plt.xticks(rotation=90)\n",
    "plt.xlabel('Date')\n",
    "plt.ylabel('Percent change')\n",
    "plt.ylim([-95,60])\n",
    "plt.title('Percent change Grocery and Pharmacy 1/7/20-1/12/20')\n",
    "ax.xaxis.set_major_locator(mdates.MonthLocator())\n",
    "ax.xaxis.set_major_formatter(mdates.DateFormatter('%b %y'))\n",
    "\n",
    "plt.show"
   ]
  },
  {
   "cell_type": "code",
   "execution_count": null,
   "metadata": {},
   "outputs": [],
   "source": []
  },
  {
   "cell_type": "code",
   "execution_count": 59,
   "metadata": {
    "scrolled": true
   },
   "outputs": [
    {
     "data": {
      "text/html": [
       "<div>\n",
       "<style scoped>\n",
       "    .dataframe tbody tr th:only-of-type {\n",
       "        vertical-align: middle;\n",
       "    }\n",
       "\n",
       "    .dataframe tbody tr th {\n",
       "        vertical-align: top;\n",
       "    }\n",
       "\n",
       "    .dataframe thead th {\n",
       "        text-align: right;\n",
       "    }\n",
       "</style>\n",
       "<table border=\"1\" class=\"dataframe\">\n",
       "  <thead>\n",
       "    <tr style=\"text-align: right;\">\n",
       "      <th></th>\n",
       "      <th>_id</th>\n",
       "      <th>datetime</th>\n",
       "      <th>parks_percent_change_from_baseline</th>\n",
       "      <th>sub_region_2</th>\n",
       "    </tr>\n",
       "  </thead>\n",
       "  <tbody>\n",
       "    <tr>\n",
       "      <th>0</th>\n",
       "      <td>5ffffd947bce0de2f44cb15c</td>\n",
       "      <td>2020-02-15</td>\n",
       "      <td>-21.0</td>\n",
       "      <td>Banyule City</td>\n",
       "    </tr>\n",
       "    <tr>\n",
       "      <th>1</th>\n",
       "      <td>5ffffd947bce0de2f44cb27c</td>\n",
       "      <td>2020-02-15</td>\n",
       "      <td>-47.0</td>\n",
       "      <td>Bayside City</td>\n",
       "    </tr>\n",
       "    <tr>\n",
       "      <th>2</th>\n",
       "      <td>5ffffd947bce0de2f44cb399</td>\n",
       "      <td>2020-02-15</td>\n",
       "      <td>-15.0</td>\n",
       "      <td>Brimbank City</td>\n",
       "    </tr>\n",
       "    <tr>\n",
       "      <th>3</th>\n",
       "      <td>5ffffd947bce0de2f44cb4bc</td>\n",
       "      <td>2020-02-15</td>\n",
       "      <td>-6.0</td>\n",
       "      <td>Cardinia Shire</td>\n",
       "    </tr>\n",
       "    <tr>\n",
       "      <th>4</th>\n",
       "      <td>5ffffd947bce0de2f44cb5df</td>\n",
       "      <td>2020-02-15</td>\n",
       "      <td>-21.0</td>\n",
       "      <td>City of Casey</td>\n",
       "    </tr>\n",
       "  </tbody>\n",
       "</table>\n",
       "</div>"
      ],
      "text/plain": [
       "                        _id   datetime  parks_percent_change_from_baseline  \\\n",
       "0  5ffffd947bce0de2f44cb15c 2020-02-15                               -21.0   \n",
       "1  5ffffd947bce0de2f44cb27c 2020-02-15                               -47.0   \n",
       "2  5ffffd947bce0de2f44cb399 2020-02-15                               -15.0   \n",
       "3  5ffffd947bce0de2f44cb4bc 2020-02-15                                -6.0   \n",
       "4  5ffffd947bce0de2f44cb5df 2020-02-15                               -21.0   \n",
       "\n",
       "     sub_region_2  \n",
       "0    Banyule City  \n",
       "1    Bayside City  \n",
       "2   Brimbank City  \n",
       "3  Cardinia Shire  \n",
       "4   City of Casey  "
      ]
     },
     "execution_count": 59,
     "metadata": {},
     "output_type": "execute_result"
    }
   ],
   "source": [
    "###3 - PARKS\n",
    "###Parks data 15/2/20-30/6/20\n",
    "date_1 = datetime(2020,7,1)\n",
    "query = {\"datetime\": {\"$lt\": date_1}}\n",
    "parks_sub_1 = pd.DataFrame(list(parks_coll.find(query).sort(\"datetime\")))\n",
    "parks_sub_1.head()"
   ]
  },
  {
   "cell_type": "code",
   "execution_count": 60,
   "metadata": {},
   "outputs": [
    {
     "data": {
      "text/html": [
       "<div>\n",
       "<style scoped>\n",
       "    .dataframe tbody tr th:only-of-type {\n",
       "        vertical-align: middle;\n",
       "    }\n",
       "\n",
       "    .dataframe tbody tr th {\n",
       "        vertical-align: top;\n",
       "    }\n",
       "\n",
       "    .dataframe thead th {\n",
       "        text-align: right;\n",
       "    }\n",
       "</style>\n",
       "<table border=\"1\" class=\"dataframe\">\n",
       "  <thead>\n",
       "    <tr style=\"text-align: right;\">\n",
       "      <th></th>\n",
       "      <th>_id</th>\n",
       "      <th>datetime</th>\n",
       "      <th>parks_percent_change_from_baseline</th>\n",
       "      <th>sub_region_2</th>\n",
       "    </tr>\n",
       "  </thead>\n",
       "  <tbody>\n",
       "    <tr>\n",
       "      <th>0</th>\n",
       "      <td>5ffffd947bce0de2f44cb1e5</td>\n",
       "      <td>2020-07-01</td>\n",
       "      <td>48.0</td>\n",
       "      <td>Banyule City</td>\n",
       "    </tr>\n",
       "    <tr>\n",
       "      <th>1</th>\n",
       "      <td>5ffffd947bce0de2f44cb305</td>\n",
       "      <td>2020-07-01</td>\n",
       "      <td>21.0</td>\n",
       "      <td>Bayside City</td>\n",
       "    </tr>\n",
       "    <tr>\n",
       "      <th>2</th>\n",
       "      <td>5ffffd947bce0de2f44cb422</td>\n",
       "      <td>2020-07-01</td>\n",
       "      <td>-10.0</td>\n",
       "      <td>Brimbank City</td>\n",
       "    </tr>\n",
       "    <tr>\n",
       "      <th>3</th>\n",
       "      <td>5ffffd947bce0de2f44cb545</td>\n",
       "      <td>2020-07-01</td>\n",
       "      <td>-21.0</td>\n",
       "      <td>Cardinia Shire</td>\n",
       "    </tr>\n",
       "    <tr>\n",
       "      <th>4</th>\n",
       "      <td>5ffffd947bce0de2f44cb668</td>\n",
       "      <td>2020-07-01</td>\n",
       "      <td>21.0</td>\n",
       "      <td>City of Casey</td>\n",
       "    </tr>\n",
       "  </tbody>\n",
       "</table>\n",
       "</div>"
      ],
      "text/plain": [
       "                        _id   datetime  parks_percent_change_from_baseline  \\\n",
       "0  5ffffd947bce0de2f44cb1e5 2020-07-01                                48.0   \n",
       "1  5ffffd947bce0de2f44cb305 2020-07-01                                21.0   \n",
       "2  5ffffd947bce0de2f44cb422 2020-07-01                               -10.0   \n",
       "3  5ffffd947bce0de2f44cb545 2020-07-01                               -21.0   \n",
       "4  5ffffd947bce0de2f44cb668 2020-07-01                                21.0   \n",
       "\n",
       "     sub_region_2  \n",
       "0    Banyule City  \n",
       "1    Bayside City  \n",
       "2   Brimbank City  \n",
       "3  Cardinia Shire  \n",
       "4   City of Casey  "
      ]
     },
     "execution_count": 60,
     "metadata": {},
     "output_type": "execute_result"
    }
   ],
   "source": [
    "###Parks data 1/7/20-30/11/20\n",
    "date_2 = datetime(2020,6,30)\n",
    "query = {\"datetime\": {\"$gt\": date_2}}\n",
    "parks_sub_2 = pd.DataFrame(list(parks_coll.find(query).sort(\"datetime\")))\n",
    "parks_sub_2.head()"
   ]
  },
  {
   "cell_type": "code",
   "execution_count": 61,
   "metadata": {},
   "outputs": [
    {
     "data": {
      "text/plain": [
       "count    137.000000\n",
       "mean      -8.513181\n",
       "std       23.867285\n",
       "min      -66.533333\n",
       "25%      -22.600000\n",
       "50%       -9.100000\n",
       "75%        8.266667\n",
       "max       74.620690\n",
       "Name: parks_percent_change_from_baseline, dtype: float64"
      ]
     },
     "execution_count": 61,
     "metadata": {},
     "output_type": "execute_result"
    }
   ],
   "source": [
    "parks_1 = parks_sub_1.groupby('datetime')['parks_percent_change_from_baseline'].mean()\n",
    "parks_1.describe()"
   ]
  },
  {
   "cell_type": "code",
   "execution_count": 62,
   "metadata": {},
   "outputs": [
    {
     "data": {
      "text/plain": [
       "count    154.000000\n",
       "mean     -11.595909\n",
       "std       37.555880\n",
       "min      -85.600000\n",
       "25%      -34.775000\n",
       "50%      -13.400000\n",
       "75%       15.450000\n",
       "max      106.275862\n",
       "Name: parks_percent_change_from_baseline, dtype: float64"
      ]
     },
     "execution_count": 62,
     "metadata": {},
     "output_type": "execute_result"
    }
   ],
   "source": [
    "parks_2 = parks_sub_2.groupby('datetime')['parks_percent_change_from_baseline'].mean()\n",
    "parks_2.describe()"
   ]
  },
  {
   "cell_type": "code",
   "execution_count": null,
   "metadata": {},
   "outputs": [],
   "source": []
  },
  {
   "cell_type": "code",
   "execution_count": 63,
   "metadata": {
    "scrolled": true
   },
   "outputs": [
    {
     "data": {
      "text/plain": [
       "<function matplotlib.pyplot.show(*args, **kw)>"
      ]
     },
     "execution_count": 63,
     "metadata": {},
     "output_type": "execute_result"
    },
    {
     "data": {
      "image/png": "[encoded data removed]",
      "text/plain": [
       "<Figure size 576x360 with 1 Axes>"
      ]
     },
     "metadata": {
      "needs_background": "light"
     },
     "output_type": "display_data"
    }
   ],
   "source": [
    "### Plot Parks\n",
    "### 15/2/20-30/6/20\n",
    "\n",
    "fig, ax = plt.subplots(figsize=(8,5))\n",
    "\n",
    "sns.lineplot(x = 'datetime', y = 'parks_percent_change_from_baseline', data=parks_sub_1, \n",
    "             color = 'purple')\n",
    "plt.xticks(rotation=90)\n",
    "plt.xlabel('Date')\n",
    "plt.ylabel('Percent change')\n",
    "plt.ylim([-95,175])\n",
    "plt.title('Percent change Parks 15/2/20-30/6/20')\n",
    "ax.xaxis.set_major_locator(mdates.MonthLocator())\n",
    "ax.xaxis.set_major_formatter(mdates.DateFormatter('%b %y'))\n",
    "\n",
    "plt.show"
   ]
  },
  {
   "cell_type": "code",
   "execution_count": 64,
   "metadata": {},
   "outputs": [
    {
     "data": {
      "text/plain": [
       "<function matplotlib.pyplot.show(*args, **kw)>"
      ]
     },
     "execution_count": 64,
     "metadata": {},
     "output_type": "execute_result"
    },
    {
     "data": {
      "image/png": "[encoded data removed]",
      "text/plain": [
       "<Figure size 576x360 with 1 Axes>"
      ]
     },
     "metadata": {
      "needs_background": "light"
     },
     "output_type": "display_data"
    }
   ],
   "source": [
    "### Plot Parks\n",
    "### 1/7/20-1/12/20\n",
    "\n",
    "fig, ax = plt.subplots(figsize=(8,5))\n",
    "\n",
    "sns.lineplot(x = 'datetime', y = 'parks_percent_change_from_baseline', data=parks_sub_2, \n",
    "             color = 'blue')\n",
    "plt.xticks(rotation=90)\n",
    "plt.xlabel('Date')\n",
    "plt.ylabel('Percent change')\n",
    "plt.ylim([-95,175])\n",
    "plt.title('Percent change Parks 1/7/20-1/12/20')\n",
    "ax.xaxis.set_major_locator(mdates.MonthLocator())\n",
    "ax.xaxis.set_major_formatter(mdates.DateFormatter('%b %y'))\n",
    "\n",
    "plt.show"
   ]
  },
  {
   "cell_type": "code",
   "execution_count": null,
   "metadata": {},
   "outputs": [],
   "source": []
  },
  {
   "cell_type": "code",
   "execution_count": 65,
   "metadata": {},
   "outputs": [
    {
     "data": {
      "text/html": [
       "<div>\n",
       "<style scoped>\n",
       "    .dataframe tbody tr th:only-of-type {\n",
       "        vertical-align: middle;\n",
       "    }\n",
       "\n",
       "    .dataframe tbody tr th {\n",
       "        vertical-align: top;\n",
       "    }\n",
       "\n",
       "    .dataframe thead th {\n",
       "        text-align: right;\n",
       "    }\n",
       "</style>\n",
       "<table border=\"1\" class=\"dataframe\">\n",
       "  <thead>\n",
       "    <tr style=\"text-align: right;\">\n",
       "      <th></th>\n",
       "      <th>_id</th>\n",
       "      <th>datetime</th>\n",
       "      <th>sub_region_2</th>\n",
       "      <th>transit_stations_percent_change_from_baseline</th>\n",
       "    </tr>\n",
       "  </thead>\n",
       "  <tbody>\n",
       "    <tr>\n",
       "      <th>0</th>\n",
       "      <td>5ffffd9b7bce0de2f44cd360</td>\n",
       "      <td>2020-02-15</td>\n",
       "      <td>Banyule City</td>\n",
       "      <td>14.0</td>\n",
       "    </tr>\n",
       "    <tr>\n",
       "      <th>1</th>\n",
       "      <td>5ffffd9b7bce0de2f44cd480</td>\n",
       "      <td>2020-02-15</td>\n",
       "      <td>Bayside City</td>\n",
       "      <td>-12.0</td>\n",
       "    </tr>\n",
       "    <tr>\n",
       "      <th>2</th>\n",
       "      <td>5ffffd9b7bce0de2f44cd59d</td>\n",
       "      <td>2020-02-15</td>\n",
       "      <td>Brimbank City</td>\n",
       "      <td>3.0</td>\n",
       "    </tr>\n",
       "    <tr>\n",
       "      <th>3</th>\n",
       "      <td>5ffffd9b7bce0de2f44cd6c0</td>\n",
       "      <td>2020-02-15</td>\n",
       "      <td>Cardinia Shire</td>\n",
       "      <td>8.0</td>\n",
       "    </tr>\n",
       "    <tr>\n",
       "      <th>4</th>\n",
       "      <td>5ffffd9b7bce0de2f44cd7e3</td>\n",
       "      <td>2020-02-15</td>\n",
       "      <td>City of Casey</td>\n",
       "      <td>14.0</td>\n",
       "    </tr>\n",
       "  </tbody>\n",
       "</table>\n",
       "</div>"
      ],
      "text/plain": [
       "                        _id   datetime    sub_region_2  \\\n",
       "0  5ffffd9b7bce0de2f44cd360 2020-02-15    Banyule City   \n",
       "1  5ffffd9b7bce0de2f44cd480 2020-02-15    Bayside City   \n",
       "2  5ffffd9b7bce0de2f44cd59d 2020-02-15   Brimbank City   \n",
       "3  5ffffd9b7bce0de2f44cd6c0 2020-02-15  Cardinia Shire   \n",
       "4  5ffffd9b7bce0de2f44cd7e3 2020-02-15   City of Casey   \n",
       "\n",
       "   transit_stations_percent_change_from_baseline  \n",
       "0                                           14.0  \n",
       "1                                          -12.0  \n",
       "2                                            3.0  \n",
       "3                                            8.0  \n",
       "4                                           14.0  "
      ]
     },
     "execution_count": 65,
     "metadata": {},
     "output_type": "execute_result"
    }
   ],
   "source": [
    "###4 - TRANSIT\n",
    "###Transit data 15/2/20-30/6/20\n",
    "date_1 = datetime(2020,7,1)\n",
    "query = {\"datetime\": {\"$lt\": date_1}}\n",
    "transit_sub_1 = pd.DataFrame(list(transit_coll.find(query).sort(\"datetime\")))\n",
    "transit_sub_1.head()"
   ]
  },
  {
   "cell_type": "code",
   "execution_count": 66,
   "metadata": {},
   "outputs": [
    {
     "data": {
      "text/html": [
       "<div>\n",
       "<style scoped>\n",
       "    .dataframe tbody tr th:only-of-type {\n",
       "        vertical-align: middle;\n",
       "    }\n",
       "\n",
       "    .dataframe tbody tr th {\n",
       "        vertical-align: top;\n",
       "    }\n",
       "\n",
       "    .dataframe thead th {\n",
       "        text-align: right;\n",
       "    }\n",
       "</style>\n",
       "<table border=\"1\" class=\"dataframe\">\n",
       "  <thead>\n",
       "    <tr style=\"text-align: right;\">\n",
       "      <th></th>\n",
       "      <th>_id</th>\n",
       "      <th>datetime</th>\n",
       "      <th>sub_region_2</th>\n",
       "      <th>transit_stations_percent_change_from_baseline</th>\n",
       "    </tr>\n",
       "  </thead>\n",
       "  <tbody>\n",
       "    <tr>\n",
       "      <th>0</th>\n",
       "      <td>5ffffd9b7bce0de2f44cd3e9</td>\n",
       "      <td>2020-07-01</td>\n",
       "      <td>Banyule City</td>\n",
       "      <td>-54.0</td>\n",
       "    </tr>\n",
       "    <tr>\n",
       "      <th>1</th>\n",
       "      <td>5ffffd9b7bce0de2f44cd509</td>\n",
       "      <td>2020-07-01</td>\n",
       "      <td>Bayside City</td>\n",
       "      <td>-60.0</td>\n",
       "    </tr>\n",
       "    <tr>\n",
       "      <th>2</th>\n",
       "      <td>5ffffd9b7bce0de2f44cd626</td>\n",
       "      <td>2020-07-01</td>\n",
       "      <td>Brimbank City</td>\n",
       "      <td>-54.0</td>\n",
       "    </tr>\n",
       "    <tr>\n",
       "      <th>3</th>\n",
       "      <td>5ffffd9b7bce0de2f44cd749</td>\n",
       "      <td>2020-07-01</td>\n",
       "      <td>Cardinia Shire</td>\n",
       "      <td>-16.0</td>\n",
       "    </tr>\n",
       "    <tr>\n",
       "      <th>4</th>\n",
       "      <td>5ffffd9b7bce0de2f44cd86c</td>\n",
       "      <td>2020-07-01</td>\n",
       "      <td>City of Casey</td>\n",
       "      <td>-31.0</td>\n",
       "    </tr>\n",
       "  </tbody>\n",
       "</table>\n",
       "</div>"
      ],
      "text/plain": [
       "                        _id   datetime    sub_region_2  \\\n",
       "0  5ffffd9b7bce0de2f44cd3e9 2020-07-01    Banyule City   \n",
       "1  5ffffd9b7bce0de2f44cd509 2020-07-01    Bayside City   \n",
       "2  5ffffd9b7bce0de2f44cd626 2020-07-01   Brimbank City   \n",
       "3  5ffffd9b7bce0de2f44cd749 2020-07-01  Cardinia Shire   \n",
       "4  5ffffd9b7bce0de2f44cd86c 2020-07-01   City of Casey   \n",
       "\n",
       "   transit_stations_percent_change_from_baseline  \n",
       "0                                          -54.0  \n",
       "1                                          -60.0  \n",
       "2                                          -54.0  \n",
       "3                                          -16.0  \n",
       "4                                          -31.0  "
      ]
     },
     "execution_count": 66,
     "metadata": {},
     "output_type": "execute_result"
    }
   ],
   "source": [
    "###Transit data 1/7/20-30/11/20\n",
    "date_2 = datetime(2020,6,30)\n",
    "query = {\"datetime\": {\"$gt\": date_2}}\n",
    "transit_sub_2 = pd.DataFrame(list(transit_coll.find(query).sort(\"datetime\")))\n",
    "transit_sub_2.head()"
   ]
  },
  {
   "cell_type": "code",
   "execution_count": 67,
   "metadata": {},
   "outputs": [
    {
     "data": {
      "text/plain": [
       "count    137.000000\n",
       "mean     -34.409506\n",
       "std       28.410252\n",
       "min      -76.333333\n",
       "25%      -55.500000\n",
       "50%      -45.310345\n",
       "75%      -22.900000\n",
       "max       23.233333\n",
       "Name: transit_stations_percent_change_from_baseline, dtype: float64"
      ]
     },
     "execution_count": 67,
     "metadata": {},
     "output_type": "execute_result"
    }
   ],
   "source": [
    "transit_1 = transit_sub_1.groupby('datetime')['transit_stations_percent_change_from_baseline'].mean()\n",
    "transit_1.describe()"
   ]
  },
  {
   "cell_type": "code",
   "execution_count": 68,
   "metadata": {},
   "outputs": [
    {
     "data": {
      "text/plain": [
       "count    154.000000\n",
       "mean     -58.001424\n",
       "std       11.777046\n",
       "min      -76.600000\n",
       "25%      -67.300000\n",
       "50%      -58.466667\n",
       "75%      -51.466667\n",
       "max      -24.100000\n",
       "Name: transit_stations_percent_change_from_baseline, dtype: float64"
      ]
     },
     "execution_count": 68,
     "metadata": {},
     "output_type": "execute_result"
    }
   ],
   "source": [
    "transit_2 = transit_sub_2.groupby('datetime')['transit_stations_percent_change_from_baseline'].mean()\n",
    "transit_2.describe()"
   ]
  },
  {
   "cell_type": "code",
   "execution_count": null,
   "metadata": {},
   "outputs": [],
   "source": []
  },
  {
   "cell_type": "code",
   "execution_count": 69,
   "metadata": {},
   "outputs": [
    {
     "data": {
      "text/plain": [
       "<function matplotlib.pyplot.show(*args, **kw)>"
      ]
     },
     "execution_count": 69,
     "metadata": {},
     "output_type": "execute_result"
    },
    {
     "data": {
      "image/png": "[encoded data removed]",
      "text/plain": [
       "<Figure size 576x360 with 1 Axes>"
      ]
     },
     "metadata": {
      "needs_background": "light"
     },
     "output_type": "display_data"
    }
   ],
   "source": [
    "### Plot Transit\n",
    "### 15/2/20-30/6/20\n",
    "\n",
    "fig, ax = plt.subplots(figsize=(8,5))\n",
    "\n",
    "sns.lineplot(x = 'datetime', y = 'transit_stations_percent_change_from_baseline', data=transit_sub_1, \n",
    "             color = 'purple')\n",
    "plt.xticks(rotation=90)\n",
    "plt.xlabel('Date')\n",
    "plt.ylabel('Percent change')\n",
    "plt.ylim([-95,60])\n",
    "plt.title('Percent change Transit 15/2/20-30/6/20')\n",
    "ax.xaxis.set_major_locator(mdates.MonthLocator())\n",
    "ax.xaxis.set_major_formatter(mdates.DateFormatter('%b %y'))\n",
    "\n",
    "plt.show"
   ]
  },
  {
   "cell_type": "code",
   "execution_count": 70,
   "metadata": {},
   "outputs": [
    {
     "data": {
      "text/plain": [
       "<function matplotlib.pyplot.show(*args, **kw)>"
      ]
     },
     "execution_count": 70,
     "metadata": {},
     "output_type": "execute_result"
    },
    {
     "data": {
      "image/png": "[encoded data removed]",
      "text/plain": [
       "<Figure size 576x360 with 1 Axes>"
      ]
     },
     "metadata": {
      "needs_background": "light"
     },
     "output_type": "display_data"
    }
   ],
   "source": [
    "### Plot Transit\n",
    "###1/7/20-1/12/20\n",
    "\n",
    "fig, ax = plt.subplots(figsize=(8,5))\n",
    "\n",
    "sns.lineplot(x = 'datetime', y = 'transit_stations_percent_change_from_baseline', data=transit_sub_2, \n",
    "             color = 'blue')\n",
    "plt.xticks(rotation=90)\n",
    "plt.xlabel('Date')\n",
    "plt.ylabel('Percent change')\n",
    "plt.ylim([-95,60])\n",
    "plt.title('Percent change Transit 1/7/20-1/12/20')\n",
    "ax.xaxis.set_major_locator(mdates.MonthLocator())\n",
    "ax.xaxis.set_major_formatter(mdates.DateFormatter('%b %y'))\n",
    "\n",
    "plt.show"
   ]
  },
  {
   "cell_type": "code",
   "execution_count": null,
   "metadata": {},
   "outputs": [],
   "source": []
  },
  {
   "cell_type": "code",
   "execution_count": 71,
   "metadata": {},
   "outputs": [
    {
     "data": {
      "text/html": [
       "<div>\n",
       "<style scoped>\n",
       "    .dataframe tbody tr th:only-of-type {\n",
       "        vertical-align: middle;\n",
       "    }\n",
       "\n",
       "    .dataframe tbody tr th {\n",
       "        vertical-align: top;\n",
       "    }\n",
       "\n",
       "    .dataframe thead th {\n",
       "        text-align: right;\n",
       "    }\n",
       "</style>\n",
       "<table border=\"1\" class=\"dataframe\">\n",
       "  <thead>\n",
       "    <tr style=\"text-align: right;\">\n",
       "      <th></th>\n",
       "      <th>_id</th>\n",
       "      <th>datetime</th>\n",
       "      <th>sub_region_2</th>\n",
       "      <th>workplaces_percent_change_from_baseline</th>\n",
       "    </tr>\n",
       "  </thead>\n",
       "  <tbody>\n",
       "    <tr>\n",
       "      <th>0</th>\n",
       "      <td>5ffffd9f7bce0de2f44cf564</td>\n",
       "      <td>2020-02-15</td>\n",
       "      <td>Banyule City</td>\n",
       "      <td>2.0</td>\n",
       "    </tr>\n",
       "    <tr>\n",
       "      <th>1</th>\n",
       "      <td>5ffffd9f7bce0de2f44cf684</td>\n",
       "      <td>2020-02-15</td>\n",
       "      <td>Bayside City</td>\n",
       "      <td>7.0</td>\n",
       "    </tr>\n",
       "    <tr>\n",
       "      <th>2</th>\n",
       "      <td>5ffffd9f7bce0de2f44cf7a1</td>\n",
       "      <td>2020-02-15</td>\n",
       "      <td>Brimbank City</td>\n",
       "      <td>7.0</td>\n",
       "    </tr>\n",
       "    <tr>\n",
       "      <th>3</th>\n",
       "      <td>5ffffd9f7bce0de2f44cf8c4</td>\n",
       "      <td>2020-02-15</td>\n",
       "      <td>Cardinia Shire</td>\n",
       "      <td>4.0</td>\n",
       "    </tr>\n",
       "    <tr>\n",
       "      <th>4</th>\n",
       "      <td>5ffffd9f7bce0de2f44cf9e7</td>\n",
       "      <td>2020-02-15</td>\n",
       "      <td>City of Casey</td>\n",
       "      <td>1.0</td>\n",
       "    </tr>\n",
       "  </tbody>\n",
       "</table>\n",
       "</div>"
      ],
      "text/plain": [
       "                        _id   datetime    sub_region_2  \\\n",
       "0  5ffffd9f7bce0de2f44cf564 2020-02-15    Banyule City   \n",
       "1  5ffffd9f7bce0de2f44cf684 2020-02-15    Bayside City   \n",
       "2  5ffffd9f7bce0de2f44cf7a1 2020-02-15   Brimbank City   \n",
       "3  5ffffd9f7bce0de2f44cf8c4 2020-02-15  Cardinia Shire   \n",
       "4  5ffffd9f7bce0de2f44cf9e7 2020-02-15   City of Casey   \n",
       "\n",
       "   workplaces_percent_change_from_baseline  \n",
       "0                                      2.0  \n",
       "1                                      7.0  \n",
       "2                                      7.0  \n",
       "3                                      4.0  \n",
       "4                                      1.0  "
      ]
     },
     "execution_count": 71,
     "metadata": {},
     "output_type": "execute_result"
    }
   ],
   "source": [
    "###5 - WORKPLACE\n",
    "###Workplace data 15/2/20-30/6/20\n",
    "date_1 = datetime(2020,7,1)\n",
    "query = {\"datetime\": {\"$lt\": date_1}}\n",
    "work_sub_1 = pd.DataFrame(list(work_coll.find(query).sort(\"datetime\")))\n",
    "work_sub_1.head()"
   ]
  },
  {
   "cell_type": "code",
   "execution_count": 72,
   "metadata": {},
   "outputs": [
    {
     "data": {
      "text/html": [
       "<div>\n",
       "<style scoped>\n",
       "    .dataframe tbody tr th:only-of-type {\n",
       "        vertical-align: middle;\n",
       "    }\n",
       "\n",
       "    .dataframe tbody tr th {\n",
       "        vertical-align: top;\n",
       "    }\n",
       "\n",
       "    .dataframe thead th {\n",
       "        text-align: right;\n",
       "    }\n",
       "</style>\n",
       "<table border=\"1\" class=\"dataframe\">\n",
       "  <thead>\n",
       "    <tr style=\"text-align: right;\">\n",
       "      <th></th>\n",
       "      <th>_id</th>\n",
       "      <th>datetime</th>\n",
       "      <th>sub_region_2</th>\n",
       "      <th>workplaces_percent_change_from_baseline</th>\n",
       "    </tr>\n",
       "  </thead>\n",
       "  <tbody>\n",
       "    <tr>\n",
       "      <th>0</th>\n",
       "      <td>5ffffd9f7bce0de2f44cf5ed</td>\n",
       "      <td>2020-07-01</td>\n",
       "      <td>Banyule City</td>\n",
       "      <td>-40.0</td>\n",
       "    </tr>\n",
       "    <tr>\n",
       "      <th>1</th>\n",
       "      <td>5ffffd9f7bce0de2f44cf70d</td>\n",
       "      <td>2020-07-01</td>\n",
       "      <td>Bayside City</td>\n",
       "      <td>-45.0</td>\n",
       "    </tr>\n",
       "    <tr>\n",
       "      <th>2</th>\n",
       "      <td>5ffffd9f7bce0de2f44cf82a</td>\n",
       "      <td>2020-07-01</td>\n",
       "      <td>Brimbank City</td>\n",
       "      <td>-30.0</td>\n",
       "    </tr>\n",
       "    <tr>\n",
       "      <th>3</th>\n",
       "      <td>5ffffd9f7bce0de2f44cf94d</td>\n",
       "      <td>2020-07-01</td>\n",
       "      <td>Cardinia Shire</td>\n",
       "      <td>-27.0</td>\n",
       "    </tr>\n",
       "    <tr>\n",
       "      <th>4</th>\n",
       "      <td>5ffffd9f7bce0de2f44cfa70</td>\n",
       "      <td>2020-07-01</td>\n",
       "      <td>City of Casey</td>\n",
       "      <td>-27.0</td>\n",
       "    </tr>\n",
       "  </tbody>\n",
       "</table>\n",
       "</div>"
      ],
      "text/plain": [
       "                        _id   datetime    sub_region_2  \\\n",
       "0  5ffffd9f7bce0de2f44cf5ed 2020-07-01    Banyule City   \n",
       "1  5ffffd9f7bce0de2f44cf70d 2020-07-01    Bayside City   \n",
       "2  5ffffd9f7bce0de2f44cf82a 2020-07-01   Brimbank City   \n",
       "3  5ffffd9f7bce0de2f44cf94d 2020-07-01  Cardinia Shire   \n",
       "4  5ffffd9f7bce0de2f44cfa70 2020-07-01   City of Casey   \n",
       "\n",
       "   workplaces_percent_change_from_baseline  \n",
       "0                                    -40.0  \n",
       "1                                    -45.0  \n",
       "2                                    -30.0  \n",
       "3                                    -27.0  \n",
       "4                                    -27.0  "
      ]
     },
     "execution_count": 72,
     "metadata": {},
     "output_type": "execute_result"
    }
   ],
   "source": [
    "###Workplace data 1/7/20-30/11/20\n",
    "date_2 = datetime(2020,6,30)\n",
    "query = {\"datetime\": {\"$gt\": date_2}}\n",
    "work_sub_2 = pd.DataFrame(list(work_coll.find(query).sort(\"datetime\")))\n",
    "work_sub_2.head()"
   ]
  },
  {
   "cell_type": "code",
   "execution_count": 73,
   "metadata": {},
   "outputs": [
    {
     "data": {
      "text/plain": [
       "count    137.000000\n",
       "mean     -25.637528\n",
       "std       23.029325\n",
       "min      -85.366667\n",
       "25%      -42.466667\n",
       "50%      -31.633333\n",
       "75%       -6.800000\n",
       "max       18.700000\n",
       "Name: workplaces_percent_change_from_baseline, dtype: float64"
      ]
     },
     "execution_count": 73,
     "metadata": {},
     "output_type": "execute_result"
    }
   ],
   "source": [
    "work_1 = work_sub_1.groupby('datetime')['workplaces_percent_change_from_baseline'].mean()\n",
    "work_1.describe()"
   ]
  },
  {
   "cell_type": "code",
   "execution_count": 74,
   "metadata": {},
   "outputs": [
    {
     "data": {
      "text/plain": [
       "count    154.000000\n",
       "mean     -38.760909\n",
       "std       12.594948\n",
       "min      -75.000000\n",
       "25%      -48.591667\n",
       "50%      -38.833333\n",
       "75%      -31.400000\n",
       "max       -5.866667\n",
       "Name: workplaces_percent_change_from_baseline, dtype: float64"
      ]
     },
     "execution_count": 74,
     "metadata": {},
     "output_type": "execute_result"
    }
   ],
   "source": [
    "work_2 = work_sub_2.groupby('datetime')['workplaces_percent_change_from_baseline'].mean()\n",
    "work_2.describe()"
   ]
  },
  {
   "cell_type": "code",
   "execution_count": null,
   "metadata": {},
   "outputs": [],
   "source": []
  },
  {
   "cell_type": "code",
   "execution_count": 75,
   "metadata": {},
   "outputs": [
    {
     "data": {
      "text/plain": [
       "<function matplotlib.pyplot.show(*args, **kw)>"
      ]
     },
     "execution_count": 75,
     "metadata": {},
     "output_type": "execute_result"
    },
    {
     "data": {
      "image/png": "[encoded data removed]",
      "text/plain": [
       "<Figure size 576x360 with 1 Axes>"
      ]
     },
     "metadata": {
      "needs_background": "light"
     },
     "output_type": "display_data"
    }
   ],
   "source": [
    "### Plot Workplace\n",
    "### 15/2/20-30/6/20\n",
    "\n",
    "fig, ax = plt.subplots(figsize=(8,5))\n",
    "\n",
    "sns.lineplot(x = 'datetime', y = 'workplaces_percent_change_from_baseline', data=work_sub_1, \n",
    "             color = 'purple')\n",
    "plt.xticks(rotation=90)\n",
    "plt.xlabel('Date')\n",
    "plt.ylabel('Percent change')\n",
    "plt.ylim([-95,60])\n",
    "plt.title('Percent change Workplaces 15/2/20-30/6/20')\n",
    "ax.xaxis.set_major_locator(mdates.MonthLocator())\n",
    "ax.xaxis.set_major_formatter(mdates.DateFormatter('%b %y'))\n",
    "\n",
    "plt.show"
   ]
  },
  {
   "cell_type": "code",
   "execution_count": 76,
   "metadata": {},
   "outputs": [
    {
     "data": {
      "text/plain": [
       "<function matplotlib.pyplot.show(*args, **kw)>"
      ]
     },
     "execution_count": 76,
     "metadata": {},
     "output_type": "execute_result"
    },
    {
     "data": {
      "image/png": "[encoded data removed]",
      "text/plain": [
       "<Figure size 576x360 with 1 Axes>"
      ]
     },
     "metadata": {
      "needs_background": "light"
     },
     "output_type": "display_data"
    }
   ],
   "source": [
    "### Plot Workplace\n",
    "###1/7/20-1/12/20\n",
    "\n",
    "fig, ax = plt.subplots(figsize=(8,5))\n",
    "\n",
    "sns.lineplot(x = 'datetime', y = 'workplaces_percent_change_from_baseline', data=work_sub_2, \n",
    "             color = 'blue')\n",
    "plt.xticks(rotation=90)\n",
    "plt.xlabel('Date')\n",
    "plt.ylabel('Percent change')\n",
    "plt.ylim([-95,60])\n",
    "plt.title('Percent change Workplace 1/7/20-1/12/20')\n",
    "ax.xaxis.set_major_locator(mdates.MonthLocator())\n",
    "ax.xaxis.set_major_formatter(mdates.DateFormatter('%b %y'))\n",
    "\n",
    "plt.show"
   ]
  },
  {
   "cell_type": "code",
   "execution_count": null,
   "metadata": {},
   "outputs": [],
   "source": []
  },
  {
   "cell_type": "code",
   "execution_count": 77,
   "metadata": {},
   "outputs": [
    {
     "data": {
      "text/html": [
       "<div>\n",
       "<style scoped>\n",
       "    .dataframe tbody tr th:only-of-type {\n",
       "        vertical-align: middle;\n",
       "    }\n",
       "\n",
       "    .dataframe tbody tr th {\n",
       "        vertical-align: top;\n",
       "    }\n",
       "\n",
       "    .dataframe thead th {\n",
       "        text-align: right;\n",
       "    }\n",
       "</style>\n",
       "<table border=\"1\" class=\"dataframe\">\n",
       "  <thead>\n",
       "    <tr style=\"text-align: right;\">\n",
       "      <th></th>\n",
       "      <th>_id</th>\n",
       "      <th>datetime</th>\n",
       "      <th>residential_percent_change_from_baseline</th>\n",
       "      <th>sub_region_2</th>\n",
       "    </tr>\n",
       "  </thead>\n",
       "  <tbody>\n",
       "    <tr>\n",
       "      <th>0</th>\n",
       "      <td>5ffffda57bce0de2f44d1768</td>\n",
       "      <td>2020-02-15</td>\n",
       "      <td>0.0</td>\n",
       "      <td>Banyule City</td>\n",
       "    </tr>\n",
       "    <tr>\n",
       "      <th>1</th>\n",
       "      <td>5ffffda57bce0de2f44d1888</td>\n",
       "      <td>2020-02-15</td>\n",
       "      <td>NaN</td>\n",
       "      <td>Bayside City</td>\n",
       "    </tr>\n",
       "    <tr>\n",
       "      <th>2</th>\n",
       "      <td>5ffffda57bce0de2f44d19a5</td>\n",
       "      <td>2020-02-15</td>\n",
       "      <td>0.0</td>\n",
       "      <td>Brimbank City</td>\n",
       "    </tr>\n",
       "    <tr>\n",
       "      <th>3</th>\n",
       "      <td>5ffffda57bce0de2f44d1ac8</td>\n",
       "      <td>2020-02-15</td>\n",
       "      <td>0.0</td>\n",
       "      <td>Cardinia Shire</td>\n",
       "    </tr>\n",
       "    <tr>\n",
       "      <th>4</th>\n",
       "      <td>5ffffda57bce0de2f44d1beb</td>\n",
       "      <td>2020-02-15</td>\n",
       "      <td>0.0</td>\n",
       "      <td>City of Casey</td>\n",
       "    </tr>\n",
       "  </tbody>\n",
       "</table>\n",
       "</div>"
      ],
      "text/plain": [
       "                        _id   datetime  \\\n",
       "0  5ffffda57bce0de2f44d1768 2020-02-15   \n",
       "1  5ffffda57bce0de2f44d1888 2020-02-15   \n",
       "2  5ffffda57bce0de2f44d19a5 2020-02-15   \n",
       "3  5ffffda57bce0de2f44d1ac8 2020-02-15   \n",
       "4  5ffffda57bce0de2f44d1beb 2020-02-15   \n",
       "\n",
       "   residential_percent_change_from_baseline    sub_region_2  \n",
       "0                                       0.0    Banyule City  \n",
       "1                                       NaN    Bayside City  \n",
       "2                                       0.0   Brimbank City  \n",
       "3                                       0.0  Cardinia Shire  \n",
       "4                                       0.0   City of Casey  "
      ]
     },
     "execution_count": 77,
     "metadata": {},
     "output_type": "execute_result"
    }
   ],
   "source": [
    "###6 - RESIDENTIAL\n",
    "###Residential data 15/2/20-30/6/20\n",
    "date_1 = datetime(2020,7,1)\n",
    "query = {\"datetime\": {\"$lt\": date_1}}\n",
    "home_sub_1 = pd.DataFrame(list(home_coll.find(query).sort(\"datetime\")))\n",
    "home_sub_1.head()"
   ]
  },
  {
   "cell_type": "code",
   "execution_count": 78,
   "metadata": {},
   "outputs": [
    {
     "data": {
      "text/html": [
       "<div>\n",
       "<style scoped>\n",
       "    .dataframe tbody tr th:only-of-type {\n",
       "        vertical-align: middle;\n",
       "    }\n",
       "\n",
       "    .dataframe tbody tr th {\n",
       "        vertical-align: top;\n",
       "    }\n",
       "\n",
       "    .dataframe thead th {\n",
       "        text-align: right;\n",
       "    }\n",
       "</style>\n",
       "<table border=\"1\" class=\"dataframe\">\n",
       "  <thead>\n",
       "    <tr style=\"text-align: right;\">\n",
       "      <th></th>\n",
       "      <th>_id</th>\n",
       "      <th>datetime</th>\n",
       "      <th>residential_percent_change_from_baseline</th>\n",
       "      <th>sub_region_2</th>\n",
       "    </tr>\n",
       "  </thead>\n",
       "  <tbody>\n",
       "    <tr>\n",
       "      <th>0</th>\n",
       "      <td>5ffffda57bce0de2f44d17f1</td>\n",
       "      <td>2020-07-01</td>\n",
       "      <td>16.0</td>\n",
       "      <td>Banyule City</td>\n",
       "    </tr>\n",
       "    <tr>\n",
       "      <th>1</th>\n",
       "      <td>5ffffda57bce0de2f44d1911</td>\n",
       "      <td>2020-07-01</td>\n",
       "      <td>17.0</td>\n",
       "      <td>Bayside City</td>\n",
       "    </tr>\n",
       "    <tr>\n",
       "      <th>2</th>\n",
       "      <td>5ffffda57bce0de2f44d1a2e</td>\n",
       "      <td>2020-07-01</td>\n",
       "      <td>13.0</td>\n",
       "      <td>Brimbank City</td>\n",
       "    </tr>\n",
       "    <tr>\n",
       "      <th>3</th>\n",
       "      <td>5ffffda57bce0de2f44d1b51</td>\n",
       "      <td>2020-07-01</td>\n",
       "      <td>13.0</td>\n",
       "      <td>Cardinia Shire</td>\n",
       "    </tr>\n",
       "    <tr>\n",
       "      <th>4</th>\n",
       "      <td>5ffffda57bce0de2f44d1c74</td>\n",
       "      <td>2020-07-01</td>\n",
       "      <td>13.0</td>\n",
       "      <td>City of Casey</td>\n",
       "    </tr>\n",
       "  </tbody>\n",
       "</table>\n",
       "</div>"
      ],
      "text/plain": [
       "                        _id   datetime  \\\n",
       "0  5ffffda57bce0de2f44d17f1 2020-07-01   \n",
       "1  5ffffda57bce0de2f44d1911 2020-07-01   \n",
       "2  5ffffda57bce0de2f44d1a2e 2020-07-01   \n",
       "3  5ffffda57bce0de2f44d1b51 2020-07-01   \n",
       "4  5ffffda57bce0de2f44d1c74 2020-07-01   \n",
       "\n",
       "   residential_percent_change_from_baseline    sub_region_2  \n",
       "0                                      16.0    Banyule City  \n",
       "1                                      17.0    Bayside City  \n",
       "2                                      13.0   Brimbank City  \n",
       "3                                      13.0  Cardinia Shire  \n",
       "4                                      13.0   City of Casey  "
      ]
     },
     "execution_count": 78,
     "metadata": {},
     "output_type": "execute_result"
    }
   ],
   "source": [
    "###Residential data 1/7/20-30/11/20\n",
    "date_2 = datetime(2020,6,30)\n",
    "query = {\"datetime\": {\"$gt\": date_2}}\n",
    "home_sub_2 = pd.DataFrame(list(home_coll.find(query).sort(\"datetime\")))\n",
    "home_sub_2.head()"
   ]
  },
  {
   "cell_type": "code",
   "execution_count": 79,
   "metadata": {},
   "outputs": [
    {
     "data": {
      "text/plain": [
       "count    137.000000\n",
       "mean      13.462900\n",
       "std        9.271659\n",
       "min       -3.400000\n",
       "25%        7.880000\n",
       "50%       15.533333\n",
       "75%       21.000000\n",
       "max       36.866667\n",
       "Name: residential_percent_change_from_baseline, dtype: float64"
      ]
     },
     "execution_count": 79,
     "metadata": {},
     "output_type": "execute_result"
    }
   ],
   "source": [
    "home_1 = home_sub_1.groupby('datetime')['residential_percent_change_from_baseline'].mean()\n",
    "home_1.describe()"
   ]
  },
  {
   "cell_type": "code",
   "execution_count": 80,
   "metadata": {},
   "outputs": [
    {
     "data": {
      "text/plain": [
       "count    154.000000\n",
       "mean      19.348592\n",
       "std        6.395269\n",
       "min        2.586207\n",
       "25%       15.366071\n",
       "50%       20.291228\n",
       "75%       24.068391\n",
       "max       29.892857\n",
       "Name: residential_percent_change_from_baseline, dtype: float64"
      ]
     },
     "execution_count": 80,
     "metadata": {},
     "output_type": "execute_result"
    }
   ],
   "source": [
    "home_2 = home_sub_2.groupby('datetime')['residential_percent_change_from_baseline'].mean()\n",
    "home_2.describe()"
   ]
  },
  {
   "cell_type": "code",
   "execution_count": null,
   "metadata": {},
   "outputs": [],
   "source": []
  },
  {
   "cell_type": "code",
   "execution_count": 81,
   "metadata": {},
   "outputs": [
    {
     "data": {
      "text/plain": [
       "<function matplotlib.pyplot.show(*args, **kw)>"
      ]
     },
     "execution_count": 81,
     "metadata": {},
     "output_type": "execute_result"
    },
    {
     "data": {
      "image/png": "[encoded data removed]",
      "text/plain": [
       "<Figure size 576x360 with 1 Axes>"
      ]
     },
     "metadata": {
      "needs_background": "light"
     },
     "output_type": "display_data"
    }
   ],
   "source": [
    "### Plot Residential\n",
    "### 15/2/20-30/6/20\n",
    "\n",
    "fig, ax = plt.subplots(figsize=(8,5))\n",
    "\n",
    "sns.lineplot(x = 'datetime', y = 'residential_percent_change_from_baseline', data=home_sub_1, \n",
    "             color = 'purple')\n",
    "plt.xticks(rotation=90)\n",
    "plt.xlabel('Date')\n",
    "plt.ylabel('Percent change')\n",
    "plt.ylim([-95,60])\n",
    "plt.title('Percent change Residential 15/2/20-30/6/20')\n",
    "ax.xaxis.set_major_locator(mdates.MonthLocator())\n",
    "ax.xaxis.set_major_formatter(mdates.DateFormatter('%b %y'))\n",
    "\n",
    "plt.show"
   ]
  },
  {
   "cell_type": "code",
   "execution_count": 82,
   "metadata": {},
   "outputs": [
    {
     "data": {
      "text/plain": [
       "<function matplotlib.pyplot.show(*args, **kw)>"
      ]
     },
     "execution_count": 82,
     "metadata": {},
     "output_type": "execute_result"
    },
    {
     "data": {
      "image/png": "[encoded data removed]",
      "text/plain": [
       "<Figure size 576x360 with 1 Axes>"
      ]
     },
     "metadata": {
      "needs_background": "light"
     },
     "output_type": "display_data"
    }
   ],
   "source": [
    "### Plot Residential\n",
    "###1/7/20-1/12/20\n",
    "\n",
    "fig, ax = plt.subplots(figsize=(8,5))\n",
    "\n",
    "sns.lineplot(x = 'datetime', y = 'residential_percent_change_from_baseline', data=home_sub_2, \n",
    "             color = 'blue')\n",
    "plt.xticks(rotation=90)\n",
    "plt.xlabel('Date')\n",
    "plt.ylabel('Percent change')\n",
    "plt.ylim([-95,60])\n",
    "plt.title('Percent change Residential 1/7/20-1/12/20')\n",
    "ax.xaxis.set_major_locator(mdates.MonthLocator())\n",
    "ax.xaxis.set_major_formatter(mdates.DateFormatter('%b %y'))\n",
    "\n",
    "plt.show"
   ]
  },
  {
   "cell_type": "code",
   "execution_count": null,
   "metadata": {},
   "outputs": [],
   "source": []
  }
 ],
 "metadata": {
  "kernelspec": {
   "display_name": "Python 3",
   "language": "python",
   "name": "python3"
  },
  "language_info": {
   "codemirror_mode": {
    "name": "ipython",
    "version": 3
   },
   "file_extension": ".py",
   "mimetype": "text/x-python",
   "name": "python",
   "nbconvert_exporter": "python",
   "pygments_lexer": "ipython3",
   "version": "3.8.8"
  }
 },
 "nbformat": 4,
 "nbformat_minor": 2
}
